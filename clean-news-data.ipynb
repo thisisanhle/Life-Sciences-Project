{
 "cells": [
  {
   "cell_type": "markdown",
   "metadata": {},
   "source": [
    "# News Data Sentiment Classifier"
   ]
  },
  {
   "cell_type": "code",
   "execution_count": 1,
   "metadata": {},
   "outputs": [
    {
     "name": "stderr",
     "output_type": "stream",
     "text": [
      "C:\\Users\\avila\\AppData\\Roaming\\Python\\Python37\\site-packages\\statsmodels\\tools\\_testing.py:19: FutureWarning: pandas.util.testing is deprecated. Use the functions in the public API at pandas.testing instead.\n",
      "  import pandas.util.testing as tm\n"
     ]
    }
   ],
   "source": [
    "import numpy as np\n",
    "import pandas as pd\n",
    "import seaborn as sns\n",
    "import matplotlib.pyplot as plt\n",
    "%matplotlib inline\n",
    "import dill\n",
    "import re\n",
    "from collections import Counter\n",
    "from tqdm.notebook import tqdm, trange\n",
    "import random"
   ]
  },
  {
   "cell_type": "markdown",
   "metadata": {},
   "source": [
    "Importing `nltk`'s VADER Pre-trained Sentiment Classifier as a first working model."
   ]
  },
  {
   "cell_type": "code",
   "execution_count": 2,
   "metadata": {},
   "outputs": [],
   "source": [
    "import nltk\n",
    "# nltk.download('stopwords')\n",
    "from nltk.corpus import stopwords\n",
    "\n",
    "STOP_WORDS = stopwords.words('english')\n",
    "\n",
    "from nltk.sentiment import SentimentIntensityAnalyzer\n",
    "# nltk.download('vader_lexicon')\n",
    "# nltk.download('punkt')\n",
    "SIA = SentimentIntensityAnalyzer()\n",
    "# for scores, we call the SIA.polarity_scores method()"
   ]
  },
  {
   "cell_type": "code",
   "execution_count": 3,
   "metadata": {},
   "outputs": [],
   "source": [
    "abbv_news = dill.load(open('ABBV.pkd', 'rb'))\n",
    "adxs_news = dill.load(open('ADXS.pkd', 'rb'))\n",
    "agen_news = dill.load(open('AGEN.pkd', 'rb'))\n",
    "agio_news = dill.load(open('AGIO.pkd', 'rb'))\n",
    "amgn_news = dill.load(open('AMGN.pkd', 'rb'))\n",
    "aveo_news = dill.load(open('AVEO.pkd', 'rb'))\n",
    "azn_news = dill.load(open('AZN.pkd', 'rb'))\n",
    "bmy_news = dill.load(open('BMY.pkd', 'rb'))\n",
    "clvs_news = dill.load(open('CLVS.pkd', 'rb'))\n",
    "exel_news = dill.load(open('EXEL.pkd', 'rb'))\n",
    "\n",
    "news = [abbv_news, adxs_news, agen_news, agio_news,\n",
    "        amgn_news, aveo_news, azn_news, bmy_news, \n",
    "        clvs_news, exel_news]\n",
    "\n",
    "companies = [\"Abbvie Inc.\", \"Advaxis Inc.\", \"Agenus Inc.\",\n",
    "             \"Agios Pharmaceutical Inc.\", \"Amgen Inc.\",\n",
    "             \"Aveo Pharmaceuticals Inc.\", \"AstraZeneca PLC\",\n",
    "             \"Bristol-Myers Squibb Co.\", \"Clovis Oncology Inc.\",\n",
    "             \"Exelixis Inc.\"]"
   ]
  },
  {
   "cell_type": "markdown",
   "metadata": {},
   "source": [
    "### Data Preprocessing"
   ]
  },
  {
   "cell_type": "code",
   "execution_count": 4,
   "metadata": {},
   "outputs": [],
   "source": [
    "from string import punctuation\n",
    "from nltk.stem import WordNetLemmatizer\n",
    "# nltk.download('wordnet')\n",
    "lem = WordNetLemmatizer()\n",
    "\n",
    "def clean_title(text):\n",
    "    \"\"\"Removes the news format from text.\"\"\"\n",
    "    for news_type in {'News:', 'Press Release:'}:\n",
    "        if news_type in text:\n",
    "            return text.lstrip(news_type+' ')\n",
    "\n",
    "def transformer(sentence):\n",
    "    \"\"\"Remove stop words and punctuation from sentence.\"\"\"\n",
    "    tokens = sentence.split(\" \")\n",
    "    tokens_filtered = [str(lem.lemmatize(word)).lower() for word in tokens if word.lower() not in (list(STOP_WORDS) or punctuation)]\n",
    "    return (\" \").join(tokens_filtered)"
   ]
  },
  {
   "cell_type": "code",
   "execution_count": 5,
   "metadata": {},
   "outputs": [
    {
     "data": {
      "text/plain": [
       "0        isankizumab (skyrizi®) demonstrates significan...\n",
       "1        abbvie present 39th annual j.p. morgan healthc...\n",
       "2        isankizumab (skyrizi®) phase 3 results demonst...\n",
       "3        abbvie announces risankizumab demonstrates sig...\n",
       "4        abbvie says risankizumab phase 3 results demon...\n",
       "                               ...                        \n",
       "17749    data presented aacr -- iaslc conference molecu...\n",
       "17750                                  exelixis calls sold\n",
       "17751    bio announces initial companies selected prese...\n",
       "17752    exelixis announces january 12 webcast presenta...\n",
       "17753    benzinga’s top pre- market losers (adsk, cnqr,...\n",
       "Name: text, Length: 17754, dtype: object"
      ]
     },
     "execution_count": 5,
     "metadata": {},
     "output_type": "execute_result"
    }
   ],
   "source": [
    "# combine all news into a single series\n",
    "all_news = pd.concat([df.text for df in news], ignore_index=True)\n",
    "# clean the news formats\n",
    "all_news = all_news.apply(clean_title)\n",
    "all_news = all_news.apply(transformer)\n",
    "all_news"
   ]
  },
  {
   "cell_type": "markdown",
   "metadata": {},
   "source": [
    "#### Scoring Metrics"
   ]
  },
  {
   "cell_type": "code",
   "execution_count": 6,
   "metadata": {},
   "outputs": [],
   "source": [
    "def region_score(score):\n",
    "    \"\"\"Takes in a polarity_scores dictionary.\"\"\"\n",
    "    neg = score['neg']\n",
    "    neu = score['neu']\n",
    "    pos = score['pos']\n",
    "    \n",
    "    if neg < np.log(0.5*(pos+2)):\n",
    "        return 1 # positive news\n",
    "    elif (neg > np.log(0.5*(pos+2)) and neg < pos) or (neu <= 0.5):\n",
    "        return 0 # neutral news\n",
    "    elif neg > pos:\n",
    "        return -1 # negative news\n",
    "    return 0 # nill category news\n",
    "     \n",
    "    \n",
    "def mixed_score(score):\n",
    "    \"\"\"Takes in a polarity_scores dictionary. Returns two scores; a\n",
    "    concervative scoring and a bullish scoring\"\"\"\n",
    "    x = score['compound']\n",
    "    \n",
    "    kinds = {'neutral': round(np.sin(0.5*np.pi*x)),\n",
    "             'critical': round(2/(1+(1/3)**(50*x))-1)\n",
    "            }\n",
    "    \n",
    "    return kinds"
   ]
  },
  {
   "cell_type": "code",
   "execution_count": 7,
   "metadata": {},
   "outputs": [
    {
     "data": {
      "image/png": "[encoded data removed]",
      "text/plain": [
       "<Figure size 432x288 with 1 Axes>"
      ]
     },
     "metadata": {
      "needs_background": "light"
     },
     "output_type": "display_data"
    }
   ],
   "source": [
    "# =============================================================== #\n",
    "# SIA.polarity_scores() outputs a dictionary of positive/negative\n",
    "# sentiment. Apply region_scoring based on the following rule.\n",
    "# Score determined by where (pos,neg) lands on the below diagram.\n",
    "# =============================================================== #\n",
    "x_arr = np.linspace(0,1)\n",
    "plt.figure()\n",
    "plt.title('Region Scoring')\n",
    "plt.xlabel('polarity_scores() = pos')\n",
    "plt.ylabel('polarity_scores() = neg')\n",
    "\n",
    "plt.fill_between(x_arr, 1, x_arr, color='r', alpha=0.7)\n",
    "plt.fill_between(x_arr, np.log(0.5*(x_arr+2)), color='green', alpha=0.65)\n",
    "plt.axis([0,1,0,1])\n",
    "\n",
    "plt.annotate('Negative Sentiment', (0.2,0.8))\n",
    "plt.annotate('Neutral Sentiment', (0.6,0.5))\n",
    "plt.annotate('Positive Sentiment', (0.5,0.12))\n",
    "\n",
    "plt.show();"
   ]
  },
  {
   "attachments": {},
   "cell_type": "markdown",
   "metadata": {},
   "source": [
    "**Above:** `polarity_scores` method returns a dictionary of the form: \n",
    "```python\n",
    ">>> {'neg': float, 'neu': float, 'pos': float, 'compound': float}\n",
    "```\n",
    "where `0 <= neg,neu,pos <= 1` and `neg+neu+pos = 1`. And calculated seperately, `-1 <= compound <= 1`.\n",
    "\n",
    "The region scoring I suggest here consideres only the polarizing scores. It takes a tuple `(pos, neg)` generated from evaluating the sentiment of a headline and places it on the above graph.\n",
    "\n",
    "The region of positive sentiment is intentionally smaller (21.6% of the picture), compared to negative sentiment (50%). It was assumed that stock prices in biotech are more sensitive to drops due to bad news than they are to increases due to good news. The remainder 28.3% given to neutral sentiment news should suggest holding the stock. **Note: the sizes of the region shouldn't be confused with the sentiment frequency of the news headlines.**\n",
    "\n",
    "- Negative region is bigger because **bad news is worse than good news is good**. It also the least frequent sentiment so a good classifier responsible for informing trade descions should be sensitive to them.\n",
    "- Regions don't correspond to the frquency of new headline sentiments. Otherwise the white region would be the largest (by far)\n",
    "- The positive region is when it would be appealing to invest. Since it is the second most common sentiment, a good clasifier should be sensitive to \"very good news\" (eg. *\"entering Phase 3\", \"successful completion\", \"acquired additional $300M in funding\"*, etc.) rather than positive news as an umbrella category\n",
    "\n",
    "\n",
    "<div>\n",
    "<img src=\"sentiments.png\" width=\"350\">\n",
    "Distribution of sentiments (1=Positive,0=Neutral,-1=Negative)\n",
    "</div>"
   ]
  },
  {
   "cell_type": "markdown",
   "metadata": {},
   "source": [
    "# Scoring, EDA & Feature Analysis"
   ]
  },
  {
   "cell_type": "code",
   "execution_count": 8,
   "metadata": {},
   "outputs": [
    {
     "data": {
      "application/vnd.jupyter.widget-view+json": {
       "model_id": "a1bee41209044bcd8ec171d6ebdd2c90",
       "version_major": 2,
       "version_minor": 0
      },
      "text/plain": [
       "  0%|          | 0/17754 [00:00<?, ?it/s]"
      ]
     },
     "metadata": {},
     "output_type": "display_data"
    },
    {
     "data": {
      "application/vnd.jupyter.widget-view+json": {
       "model_id": "5858db56d6d54de0ad449913f9057514",
       "version_major": 2,
       "version_minor": 0
      },
      "text/plain": [
       "  0%|          | 0/17754 [00:00<?, ?it/s]"
      ]
     },
     "metadata": {},
     "output_type": "display_data"
    },
    {
     "data": {
      "application/vnd.jupyter.widget-view+json": {
       "model_id": "59be2404c9c84cac919d0d386e1a8da8",
       "version_major": 2,
       "version_minor": 0
      },
      "text/plain": [
       "  0%|          | 0/17754 [00:00<?, ?it/s]"
      ]
     },
     "metadata": {},
     "output_type": "display_data"
    },
    {
     "data": {
      "text/html": [
       "<div>\n",
       "<style scoped>\n",
       "    .dataframe tbody tr th:only-of-type {\n",
       "        vertical-align: middle;\n",
       "    }\n",
       "\n",
       "    .dataframe tbody tr th {\n",
       "        vertical-align: top;\n",
       "    }\n",
       "\n",
       "    .dataframe thead th {\n",
       "        text-align: right;\n",
       "    }\n",
       "</style>\n",
       "<table border=\"1\" class=\"dataframe\">\n",
       "  <thead>\n",
       "    <tr style=\"text-align: right;\">\n",
       "      <th></th>\n",
       "      <th>Headline</th>\n",
       "      <th>region</th>\n",
       "      <th>neutral</th>\n",
       "      <th>critical</th>\n",
       "    </tr>\n",
       "  </thead>\n",
       "  <tbody>\n",
       "    <tr>\n",
       "      <th>0</th>\n",
       "      <td>isankizumab (skyrizi®) demonstrates significan...</td>\n",
       "      <td>1</td>\n",
       "      <td>1</td>\n",
       "      <td>1</td>\n",
       "    </tr>\n",
       "    <tr>\n",
       "      <th>1</th>\n",
       "      <td>abbvie present 39th annual j.p. morgan healthc...</td>\n",
       "      <td>0</td>\n",
       "      <td>0</td>\n",
       "      <td>0</td>\n",
       "    </tr>\n",
       "    <tr>\n",
       "      <th>2</th>\n",
       "      <td>isankizumab (skyrizi®) phase 3 results demonst...</td>\n",
       "      <td>1</td>\n",
       "      <td>0</td>\n",
       "      <td>1</td>\n",
       "    </tr>\n",
       "    <tr>\n",
       "      <th>3</th>\n",
       "      <td>abbvie announces risankizumab demonstrates sig...</td>\n",
       "      <td>1</td>\n",
       "      <td>1</td>\n",
       "      <td>1</td>\n",
       "    </tr>\n",
       "    <tr>\n",
       "      <th>4</th>\n",
       "      <td>abbvie says risankizumab phase 3 results demon...</td>\n",
       "      <td>1</td>\n",
       "      <td>0</td>\n",
       "      <td>1</td>\n",
       "    </tr>\n",
       "  </tbody>\n",
       "</table>\n",
       "</div>"
      ],
      "text/plain": [
       "                                            Headline  region  neutral  \\\n",
       "0  isankizumab (skyrizi®) demonstrates significan...       1        1   \n",
       "1  abbvie present 39th annual j.p. morgan healthc...       0        0   \n",
       "2  isankizumab (skyrizi®) phase 3 results demonst...       1        0   \n",
       "3  abbvie announces risankizumab demonstrates sig...       1        1   \n",
       "4  abbvie says risankizumab phase 3 results demon...       1        0   \n",
       "\n",
       "   critical  \n",
       "0         1  \n",
       "1         0  \n",
       "2         1  \n",
       "3         1  \n",
       "4         1  "
      ]
     },
     "execution_count": 8,
     "metadata": {},
     "output_type": "execute_result"
    }
   ],
   "source": [
    "df = pd.DataFrame({'Headline': all_news})\n",
    "df['region'] = pd.Series([region_score(SIA.polarity_scores(head))\n",
    "                          for head in tqdm(all_news)])\n",
    "for x in ['neutral', 'critical']:\n",
    "    df[x] = pd.Series([mixed_score(SIA.polarity_scores(head))[x] \n",
    "                       for head in tqdm(all_news)])\n",
    "df.head()"
   ]
  },
  {
   "cell_type": "code",
   "execution_count": 9,
   "metadata": {},
   "outputs": [
    {
     "name": "stdout",
     "output_type": "stream",
     "text": [
      "region  neutral  critical\n",
      " 0       0        0          8650\n",
      " 1       1        1          3376\n",
      "         0        1          2116\n",
      "-1      -1       -1          1618\n",
      "         0       -1          1078\n",
      " 0       0        1           448\n",
      "        -1       -1           222\n",
      "         0       -1           161\n",
      "         1        1            77\n",
      "-1       0        1             8\n",
      "dtype: int64\n"
     ]
    },
    {
     "data": {
      "image/png": "[encoded data removed]",
      "text/plain": [
       "<Figure size 576x432 with 4 Axes>"
      ]
     },
     "metadata": {
      "needs_background": "light"
     },
     "output_type": "display_data"
    }
   ],
   "source": [
    "# Combinations of scoring on sentences\n",
    "print(df[list(df.columns)[1:]].value_counts())\n",
    "# Histogram of scoring distributions\n",
    "df[list(df.columns)[1:]].hist(grid=False, figsize=(8,6));"
   ]
  },
  {
   "cell_type": "code",
   "execution_count": 10,
   "metadata": {},
   "outputs": [],
   "source": [
    "from nltk.collocations import BigramCollocationFinder, TrigramCollocationFinder, QuadgramCollocationFinder\n",
    "\n",
    "def list_of_words(sentences):\n",
    "    \"\"\"Takes in a pandas series of strings. Returns a list of all words\n",
    "    in sentences (including repeated words).\"\"\"\n",
    "    words_list = []\n",
    "    for s in sentences:\n",
    "        for word in s.split(\" \"):\n",
    "            words_list.append(word)\n",
    "    return words_list\n",
    "\n",
    "bigram_finder = BigramCollocationFinder.from_words(list_of_words(all_news))\n",
    "trigram_finder = TrigramCollocationFinder.from_words(list_of_words(all_news))\n",
    "quadgram_finder = QuadgramCollocationFinder.from_words(list_of_words(all_news))\n",
    "\n",
    "# Engineered feauture: most common pairs, triples, quads of words in headlines\n",
    "DOUBLES = [ngram for (ngram,f) in bigram_finder.ngram_fd.most_common(300)]\n",
    "TRIPLES = [ngram for (ngram,f) in trigram_finder.ngram_fd.most_common(200)]\n",
    "QUADS = [ngram for (ngram,f) in quadgram_finder.ngram_fd.most_common(100)]"
   ]
  },
  {
   "cell_type": "markdown",
   "metadata": {},
   "source": [
    "Changes Made:\n",
    "\n",
    "- Fixed the logic in the transformer function\n",
    "- Feature Engineering\n",
    "- Trained a `NaiveBayesClassifier`\n",
    "    - do a binary sentiment classification of headlines\n",
    "- Use a split of the sentences that scored `(111)` or `(-1-1-1)` as the train set\n",
    "    - Test model on the `(111)` and `(-1-1-1)` headlines\n",
    "- Classify all other headlines"
   ]
  },
  {
   "cell_type": "code",
   "execution_count": 44,
   "metadata": {},
   "outputs": [],
   "source": [
    "filenames = ['common_adjectives.csv', 'common_adverbs.csv',\n",
    "             'common_nouns.csv', 'common_verbs.csv', 'random_words.csv']\n",
    "\n",
    "# sentiment truths\n",
    "word_truths = pd.concat([pd.read_csv(file) for file in filenames],\n",
    "                        ignore_index=True)\n",
    "\n",
    "POSITIVE_WORDS = word_truths[word_truths.Sentiment == 1].Word.unique()\n",
    "NEGATIVE_WORDS = word_truths[word_truths.Sentiment == -1].Word.unique()\n",
    "NEUTRAL_WORDS = word_truths[word_truths.Sentiment == 0].Word.unique()\n",
    "\n",
    "from nltk.tokenize import word_tokenize\n",
    "\n",
    "def sentiment_features(sentence):\n",
    "    cleaned = set(transformer(sentence).split(\" \"))\n",
    "    feats = {}\n",
    "    feats['pos'] = len(cleaned.intersection(set(POSITIVE_WORDS)))\n",
    "    feats['neg'] = len(cleaned.intersection(set(NEGATIVE_WORDS)))\n",
    "    feats['neu'] = len(cleaned.intersection(set(NEUTRAL_WORDS)))\n",
    "    feats['bi'], feats['tri'], feats['quad'] = (False, False, False)\n",
    "    for (i,j) in DOUBLES:\n",
    "        if i+\" \"+j in sentence:\n",
    "            feats['bi'] = True\n",
    "    for (i,j,k) in TRIPLES:\n",
    "        if i+\" \"+j+\" \"+k in sentence:\n",
    "            feats['tri'] = True\n",
    "    for (i,j,k,l) in QUADS:\n",
    "        if i+\" \"+j+\" \"+k+\" \"+l in sentence:\n",
    "            feats['quad'] = True\n",
    "    \n",
    "    feats['balance'] = feats['pos'] - feats['neg']\n",
    "    \n",
    "    return feats\n",
    "\n",
    "P_INDICES = list(df[(df.region == df.critical) & (df.neutral == 1)].index)\n",
    "N_INDICES = list(df[(df.region == df.critical) & (df.neutral == -1)].index)\n",
    "\n",
    "positive_headlines = all_news.iloc[P_INDICES]\n",
    "negative_headlines = all_news.iloc[N_INDICES]\n",
    "\n",
    "all_headlines = ([(sent, 'pos') for sent in positive_headlines] +\n",
    "                 [(sent, 'neg') for sent in negative_headlines])"
   ]
  },
  {
   "cell_type": "code",
   "execution_count": 48,
   "metadata": {},
   "outputs": [
    {
     "name": "stdout",
     "output_type": "stream",
     "text": [
      "0.7093572778827977\n"
     ]
    }
   ],
   "source": [
    "np.random.RandomState(123)\n",
    "random.shuffle(all_headlines, random=None)\n",
    "featuresets = [(sentiment_features(words),senti) for (words,senti) in all_headlines]\n",
    "\n",
    "size = len(featuresets)\n",
    "# training on about 85% of the data, test on 15%\n",
    "train_set, test_set = featuresets[int(size/1.18):], featuresets[:int(size/1.18)]\n",
    "\n",
    "clf = nltk.NaiveBayesClassifier.train(train_set)\n",
    "print(nltk.classify.accuracy(clf, test_set))"
   ]
  },
  {
   "cell_type": "code",
   "execution_count": 49,
   "metadata": {},
   "outputs": [
    {
     "name": "stdout",
     "output_type": "stream",
     "text": [
      "Most Informative Features\n",
      "                 balance = -2                neg : pos    =      6.3 : 1.0\n",
      "                     neg = 3                 neg : pos    =      5.0 : 1.0\n",
      "                 balance = -3                neg : pos    =      4.9 : 1.0\n",
      "                 balance = 5                 pos : neg    =      3.7 : 1.0\n",
      "                 balance = 4                 pos : neg    =      3.7 : 1.0\n",
      "                 balance = -1                neg : pos    =      3.2 : 1.0\n",
      "                     neg = 0                 pos : neg    =      3.1 : 1.0\n",
      "                     neg = 1                 neg : pos    =      2.6 : 1.0\n",
      "                     neg = 4                 neg : pos    =      2.2 : 1.0\n",
      "                     neg = 2                 neg : pos    =      2.1 : 1.0\n"
     ]
    }
   ],
   "source": [
    "clf.show_most_informative_features(10)"
   ]
  },
  {
   "cell_type": "code",
   "execution_count": 68,
   "metadata": {
    "scrolled": true
   },
   "outputs": [],
   "source": [
    "# all other indices that were not (111) or (-1-1-1)\n",
    "O_INDICES = list(set(np.arange(len(all_news))).difference(set(P_INDICES+N_INDICES)))\n",
    "\n",
    "pred = pd.Series([clf.classify(sentiment_features(h)) for h in all_news.iloc[O_INDICES]],\n",
    "                 index=O_INDICES)\n",
    "pred = pd.concat([pred,\n",
    "                  pd.Series('pos', index=P_INDICES),\n",
    "                  pd.Series('neg', index=N_INDICES)]\n",
    "                ).sort_index()"
   ]
  },
  {
   "cell_type": "code",
   "execution_count": 107,
   "metadata": {},
   "outputs": [
    {
     "data": {
      "text/html": [
       "<div>\n",
       "<style scoped>\n",
       "    .dataframe tbody tr th:only-of-type {\n",
       "        vertical-align: middle;\n",
       "    }\n",
       "\n",
       "    .dataframe tbody tr th {\n",
       "        vertical-align: top;\n",
       "    }\n",
       "\n",
       "    .dataframe thead th {\n",
       "        text-align: right;\n",
       "    }\n",
       "</style>\n",
       "<table border=\"1\" class=\"dataframe\">\n",
       "  <thead>\n",
       "    <tr style=\"text-align: right;\">\n",
       "      <th></th>\n",
       "      <th>Headline</th>\n",
       "      <th>Binary_Prediction</th>\n",
       "    </tr>\n",
       "  </thead>\n",
       "  <tbody>\n",
       "    <tr>\n",
       "      <th>17749</th>\n",
       "      <td>data presented aacr -- iaslc conference molecu...</td>\n",
       "      <td>neg</td>\n",
       "    </tr>\n",
       "    <tr>\n",
       "      <th>17750</th>\n",
       "      <td>exelixis calls sold</td>\n",
       "      <td>pos</td>\n",
       "    </tr>\n",
       "    <tr>\n",
       "      <th>17751</th>\n",
       "      <td>bio announces initial companies selected prese...</td>\n",
       "      <td>pos</td>\n",
       "    </tr>\n",
       "    <tr>\n",
       "      <th>17752</th>\n",
       "      <td>exelixis announces january 12 webcast presenta...</td>\n",
       "      <td>pos</td>\n",
       "    </tr>\n",
       "    <tr>\n",
       "      <th>17753</th>\n",
       "      <td>benzinga’s top pre- market losers (adsk, cnqr,...</td>\n",
       "      <td>neg</td>\n",
       "    </tr>\n",
       "  </tbody>\n",
       "</table>\n",
       "</div>"
      ],
      "text/plain": [
       "                                                Headline Binary_Prediction\n",
       "17749  data presented aacr -- iaslc conference molecu...               neg\n",
       "17750                                exelixis calls sold               pos\n",
       "17751  bio announces initial companies selected prese...               pos\n",
       "17752  exelixis announces january 12 webcast presenta...               pos\n",
       "17753  benzinga’s top pre- market losers (adsk, cnqr,...               neg"
      ]
     },
     "execution_count": 107,
     "metadata": {},
     "output_type": "execute_result"
    }
   ],
   "source": [
    "df['Binary_Prediction'] = pred\n",
    "df[['Headline','Binary_Prediction']].tail()"
   ]
  },
  {
   "cell_type": "markdown",
   "metadata": {},
   "source": [
    "# After Notes:\n",
    "\n",
    "### Accuracy\n",
    "\n",
    "The classifier here achieved a testing accuracy of about 71%.\n",
    "\n",
    "After reshuffling the `train_set` and re-training the classifier 140 times, the average accuracy was $0.71177\\pm 0.00488$. This was done on an 85/15 split (training/test ratio) of the data.\n",
    "\n",
    "Afterwards, I allowed the train-test-split to vary from 25/75 up to 85/15 and repeating this re-training process each time 140 times. The centroid of this data was an accuracy score $0.71316\\pm 0.00520$.\n",
    "\n",
    "Since the language in most of these headlines is scinetific or economic in nature, the classifier really struggles to determine positivity/negativity from the jargon. The diseases which the pharmaceuticals aim to cure are often in the headline and these appear to hold a negative context\n",
    "\n",
    "Ways to increase the accuracy:\n",
    "1. **Improve the training data.** Here, I improvised a training set from results of a general, pre-trained NLP classifier that was not specialized for this task.\n",
    "    - Someone with a little bit of background in medicne and finance reads a few thousand (ideally ~10,000) of these headlines and manually scores them `-1`, `0`, or `1`. **(Most needed improvement)**\n",
    "    - Compile a list of jargon which could convey positive/negative sentiment. For example: \"call vs put\"\n",
    "2. **Train multiple classifiers and compare, or even mix & match models.** I was also going to train a `DecisionTreeClassifier` but without an informed `train_set`, it wouldn't be very insightful.\n",
    "3. **Train a classifier that can handle non-binary results.** I suspect a large problem faced by the model is the lack of degrees of `pos/neg`. A simple good-bad output destroys some of the information we are ultimately after--very good news. Since we would want to invest in companies which have \"VERY GOOD\" news not, just kind of good news.\n",
    "4. **Change the approach that the classifier takes.** Rather than target good-bad news, approach the problem as: \"Success=Very Good news, Failure= Everything else\". This way, we exclusively isolate the best news indicating a breakthrough or success in the clinical trial to signal to start buying before other traders.\n",
    "    - This needs suggestion 1 to be completed first or else, the model will not know what VERY GOOD is.\n",
    "\n",
    "### Math/Stats\n",
    "\n",
    "The `train_set`+`test_set` is comprised of 4994 news headlines which have been already sorted into positive (3376) and negative (1618).\n",
    "\n",
    "<div>\n",
    "<img src=\"traintest.png\" width=\"400\">\n",
    "</div>\n",
    "\n",
    "On the 749 test headlines, the classifier achieved a success rate of 0.709. I use this as the probability of successfully classifying a headline in the unclassified dataset with all of the collected news headlines. Since we had 17,753 headlines to classify in the dataset, the Binomial distribution describing the number of successful classifications can be well-approximated by a Gaussian distribution.\n",
    "\n",
    "$$X\\sim\\mathrm{Binomial}(17754,0.709) \\longrightarrow X\\sim\\mathrm{N}(12587.586,\\sqrt{3662.987526})$$\n",
    "\n",
    "\n",
    "A 1% change in the accuracy of predictions amounts to a $2.93\\sigma$ deviation. We can reasonably expect the classifier to accurately classify between $12406$ and $12769$ headlines.\n",
    "\n",
    "Taking a look at the top ten most informative features, the most informative is the `balance = -2` feature. This is when there are 2 more negative words in the headline than positive words. This results in the odds of being a negative sentiment sentence are $6.3$ to $1$. The second most informative feature is when there are exactly 3 recognized negative words in the headline. The odds of being bad new are then $5$ to $1$.\n",
    "- The probability of success is not uniformly 0.709 for any given sentence. The classifier is stronger on headlines that follow certain patterns like these.\n",
    "- The classifier is more confident in identifying bad news than it is in classifying good news. \n",
    "\n",
    "### Conclusion\n",
    "\n",
    "This NLP model is not useful for saying when it is a good time to buy, and beat the wave of investors. It instead tells you when news is bad, indicating that it might be good to sell before others start selling shares."
   ]
  },
  {
   "cell_type": "code",
   "execution_count": null,
   "metadata": {},
   "outputs": [],
   "source": []
  }
 ],
 "metadata": {
  "kernelspec": {
   "display_name": "Python 3",
   "language": "python",
   "name": "python3"
  },
  "language_info": {
   "codemirror_mode": {
    "name": "ipython",
    "version": 3
   },
   "file_extension": ".py",
   "mimetype": "text/x-python",
   "name": "python",
   "nbconvert_exporter": "python",
   "pygments_lexer": "ipython3",
   "version": "3.7.1"
  }
 },
 "nbformat": 4,
 "nbformat_minor": 2
}
