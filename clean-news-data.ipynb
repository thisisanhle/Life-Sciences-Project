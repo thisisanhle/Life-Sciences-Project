{
 "cells": [
  {
   "cell_type": "markdown",
   "metadata": {},
   "source": [
    "# News Data Sentiment Classifier"
   ]
  },
  {
   "cell_type": "code",
   "execution_count": 1,
   "metadata": {},
   "outputs": [
    {
     "name": "stderr",
     "output_type": "stream",
     "text": [
      "C:\\Users\\avila\\AppData\\Roaming\\Python\\Python37\\site-packages\\statsmodels\\tools\\_testing.py:19: FutureWarning: pandas.util.testing is deprecated. Use the functions in the public API at pandas.testing instead.\n",
      "  import pandas.util.testing as tm\n"
     ]
    }
   ],
   "source": [
    "import numpy as np\n",
    "import pandas as pd\n",
    "import seaborn as sns\n",
    "import matplotlib.pyplot as plt\n",
    "%matplotlib inline\n",
    "import dill\n",
    "import re\n",
    "from collections import Counter\n",
    "from tqdm.notebook import tqdm, trange\n",
    "import random"
   ]
  },
  {
   "cell_type": "markdown",
   "metadata": {},
   "source": [
    "Importing `nltk`'s VADER Pre-trained Sentiment Classifier as a first working model."
   ]
  },
  {
   "cell_type": "code",
   "execution_count": 19,
   "metadata": {},
   "outputs": [
    {
     "name": "stderr",
     "output_type": "stream",
     "text": [
      "[nltk_data] Downloading package stopwords to\n",
      "[nltk_data]     C:\\Users\\avila\\AppData\\Roaming\\nltk_data...\n",
      "[nltk_data]   Package stopwords is already up-to-date!\n",
      "[nltk_data] Downloading package vader_lexicon to\n",
      "[nltk_data]     C:\\Users\\avila\\AppData\\Roaming\\nltk_data...\n",
      "[nltk_data]   Package vader_lexicon is already up-to-date!\n",
      "[nltk_data] Downloading package punkt to\n",
      "[nltk_data]     C:\\Users\\avila\\AppData\\Roaming\\nltk_data...\n",
      "[nltk_data]   Unzipping tokenizers\\punkt.zip.\n"
     ]
    }
   ],
   "source": [
    "import nltk\n",
    "nltk.download('stopwords')\n",
    "from nltk.corpus import stopwords\n",
    "\n",
    "STOP_WORDS = stopwords.words('english')\n",
    "\n",
    "from nltk.sentiment import SentimentIntensityAnalyzer\n",
    "nltk.download('vader_lexicon')\n",
    "nltk.download('punkt')\n",
    "SIA = SentimentIntensityAnalyzer()\n",
    "# for scores, call the SIA.polarity_scores method()"
   ]
  },
  {
   "cell_type": "code",
   "execution_count": 4,
   "metadata": {},
   "outputs": [],
   "source": [
    "abbv_news = dill.load(open('ABBV.pkd', 'rb'))\n",
    "adxs_news = dill.load(open('ADXS.pkd', 'rb'))\n",
    "agen_news = dill.load(open('AGEN.pkd', 'rb'))\n",
    "agio_news = dill.load(open('AGIO.pkd', 'rb'))\n",
    "amgn_news = dill.load(open('AMGN.pkd', 'rb'))\n",
    "aveo_news = dill.load(open('AVEO.pkd', 'rb'))\n",
    "azn_news = dill.load(open('AZN.pkd', 'rb'))\n",
    "bmy_news = dill.load(open('BMY.pkd', 'rb'))\n",
    "clvs_news = dill.load(open('CLVS.pkd', 'rb'))\n",
    "exel_news = dill.load(open('EXEL.pkd', 'rb'))\n",
    "\n",
    "news = [abbv_news, adxs_news, agen_news, agio_news,\n",
    "        amgn_news, aveo_news, azn_news, bmy_news, \n",
    "        clvs_news, exel_news]\n",
    "\n",
    "companies = [\"Abbvie Inc.\", \"Advaxis Inc.\", \"Agenus Inc.\",\n",
    "             \"Agios Pharmaceutical Inc.\", \"Amgen Inc.\",\n",
    "             \"Aveo Pharmaceuticals Inc.\", \"AstraZeneca PLC\",\n",
    "             \"Bristol-Myers Squibb Co.\", \"Clovis Oncology Inc.\",\n",
    "             \"Exelixis Inc.\"]"
   ]
  },
  {
   "cell_type": "markdown",
   "metadata": {},
   "source": [
    "### Data Preprocessing"
   ]
  },
  {
   "cell_type": "code",
   "execution_count": 5,
   "metadata": {},
   "outputs": [],
   "source": [
    "def clean_title(text):\n",
    "    \"\"\"Removes the news format from text.\"\"\"\n",
    "    for news_type in {'News:', 'Press Release:'}:\n",
    "        if news_type in text:\n",
    "            return text.lstrip(news_type+' ')\n",
    "    \n",
    "def transformer(sentence):\n",
    "    \"\"\"Remove stop words and punctuation from sentence.\"\"\"\n",
    "    tokens = sentence.split(\" \")\n",
    "    tokens_filtered = [word for word in tokens if not word in (list(STOP_WORDS) or punctuation)]\n",
    "    return (\" \").join(tokens_filtered)"
   ]
  },
  {
   "cell_type": "code",
   "execution_count": 6,
   "metadata": {},
   "outputs": [
    {
     "data": {
      "text/plain": [
       "0        isankizumab (SKYRIZI®) Demonstrates Significan...\n",
       "1        AbbVie Present 39th Annual J.P. Morgan Healthc...\n",
       "2        isankizumab (SKYRIZI®) Phase 3 Results Demonst...\n",
       "3        AbbVie Announces Risankizumab Demonstrates Sig...\n",
       "4        AbbVie Says Risankizumab Phase 3 Results Demon...\n",
       "                               ...                        \n",
       "17749    Data Presented AACR -- IASLC Conference Molecu...\n",
       "17750                                  Exelixis Calls Sold\n",
       "17751    BIO Announces Initial Companies Selected Prese...\n",
       "17752    Exelixis Announces January 12 Webcast Presenta...\n",
       "17753    Benzinga’s Top Pre- Market Losers (ADSK, CNQR,...\n",
       "Name: text, Length: 17754, dtype: object"
      ]
     },
     "execution_count": 6,
     "metadata": {},
     "output_type": "execute_result"
    }
   ],
   "source": [
    "# combine all news into a single series\n",
    "all_news = pd.concat([df.text for df in news], ignore_index=True)\n",
    "# clean the news formats\n",
    "all_news = all_news.apply(clean_title)\n",
    "all_news = all_news.apply(transformer)\n",
    "all_news"
   ]
  },
  {
   "cell_type": "markdown",
   "metadata": {},
   "source": [
    "#### Scoring Metrics"
   ]
  },
  {
   "cell_type": "code",
   "execution_count": 7,
   "metadata": {},
   "outputs": [],
   "source": [
    "def region_score(score):\n",
    "    \"\"\"Takes in a polarity_scores dictionary.\"\"\"\n",
    "    neg = score['neg']\n",
    "    neu = score['neu']\n",
    "    pos = score['pos']\n",
    "    \n",
    "    if neg < np.log(0.5*(pos+2)):\n",
    "        return 1 # positive news\n",
    "    elif (neg > np.log(0.5*(pos+2)) and neg < pos) or (neu <= 0.5):\n",
    "        return 0 # neutral news\n",
    "    elif neg > pos:\n",
    "        return -1 # negative news\n",
    "    return 0 # nill category news\n",
    "     \n",
    "    \n",
    "def mixed_score(score):\n",
    "    \"\"\"Takes in a polarity_scores dictionary.\"\"\"\n",
    "    x = score['compound']\n",
    "    \n",
    "    kinds = {'neutral': round(np.sin(0.5*np.pi*x)),\n",
    "             'critical': round(2/(1+(1/3)**(50*x))-1)\n",
    "            }\n",
    "    \n",
    "    return kinds"
   ]
  },
  {
   "cell_type": "markdown",
   "metadata": {},
   "source": [
    "# Post Scoring: EDA & Feature Analysis"
   ]
  },
  {
   "cell_type": "code",
   "execution_count": 8,
   "metadata": {},
   "outputs": [
    {
     "data": {
      "application/vnd.jupyter.widget-view+json": {
       "model_id": "bed2f982d2b74a85b26f759df665186c",
       "version_major": 2,
       "version_minor": 0
      },
      "text/plain": [
       "  0%|          | 0/17754 [00:00<?, ?it/s]"
      ]
     },
     "metadata": {},
     "output_type": "display_data"
    },
    {
     "data": {
      "application/vnd.jupyter.widget-view+json": {
       "model_id": "ac744fc630ea438e9f9e6c9734dc4c73",
       "version_major": 2,
       "version_minor": 0
      },
      "text/plain": [
       "  0%|          | 0/17754 [00:00<?, ?it/s]"
      ]
     },
     "metadata": {},
     "output_type": "display_data"
    },
    {
     "data": {
      "application/vnd.jupyter.widget-view+json": {
       "model_id": "a28defc22eda4ce09bc3d73e22076bbe",
       "version_major": 2,
       "version_minor": 0
      },
      "text/plain": [
       "  0%|          | 0/17754 [00:00<?, ?it/s]"
      ]
     },
     "metadata": {},
     "output_type": "display_data"
    },
    {
     "data": {
      "text/html": [
       "<div>\n",
       "<style scoped>\n",
       "    .dataframe tbody tr th:only-of-type {\n",
       "        vertical-align: middle;\n",
       "    }\n",
       "\n",
       "    .dataframe tbody tr th {\n",
       "        vertical-align: top;\n",
       "    }\n",
       "\n",
       "    .dataframe thead th {\n",
       "        text-align: right;\n",
       "    }\n",
       "</style>\n",
       "<table border=\"1\" class=\"dataframe\">\n",
       "  <thead>\n",
       "    <tr style=\"text-align: right;\">\n",
       "      <th></th>\n",
       "      <th>Headline</th>\n",
       "      <th>region</th>\n",
       "      <th>neutral</th>\n",
       "      <th>critical</th>\n",
       "    </tr>\n",
       "  </thead>\n",
       "  <tbody>\n",
       "    <tr>\n",
       "      <th>0</th>\n",
       "      <td>isankizumab (SKYRIZI®) Demonstrates Significan...</td>\n",
       "      <td>1</td>\n",
       "      <td>1</td>\n",
       "      <td>1</td>\n",
       "    </tr>\n",
       "    <tr>\n",
       "      <th>1</th>\n",
       "      <td>AbbVie Present 39th Annual J.P. Morgan Healthc...</td>\n",
       "      <td>0</td>\n",
       "      <td>0</td>\n",
       "      <td>0</td>\n",
       "    </tr>\n",
       "    <tr>\n",
       "      <th>2</th>\n",
       "      <td>isankizumab (SKYRIZI®) Phase 3 Results Demonst...</td>\n",
       "      <td>1</td>\n",
       "      <td>0</td>\n",
       "      <td>1</td>\n",
       "    </tr>\n",
       "    <tr>\n",
       "      <th>3</th>\n",
       "      <td>AbbVie Announces Risankizumab Demonstrates Sig...</td>\n",
       "      <td>1</td>\n",
       "      <td>1</td>\n",
       "      <td>1</td>\n",
       "    </tr>\n",
       "    <tr>\n",
       "      <th>4</th>\n",
       "      <td>AbbVie Says Risankizumab Phase 3 Results Demon...</td>\n",
       "      <td>1</td>\n",
       "      <td>0</td>\n",
       "      <td>1</td>\n",
       "    </tr>\n",
       "  </tbody>\n",
       "</table>\n",
       "</div>"
      ],
      "text/plain": [
       "                                            Headline  region  neutral  \\\n",
       "0  isankizumab (SKYRIZI®) Demonstrates Significan...       1        1   \n",
       "1  AbbVie Present 39th Annual J.P. Morgan Healthc...       0        0   \n",
       "2  isankizumab (SKYRIZI®) Phase 3 Results Demonst...       1        0   \n",
       "3  AbbVie Announces Risankizumab Demonstrates Sig...       1        1   \n",
       "4  AbbVie Says Risankizumab Phase 3 Results Demon...       1        0   \n",
       "\n",
       "   critical  \n",
       "0         1  \n",
       "1         0  \n",
       "2         1  \n",
       "3         1  \n",
       "4         1  "
      ]
     },
     "execution_count": 8,
     "metadata": {},
     "output_type": "execute_result"
    }
   ],
   "source": [
    "df = pd.DataFrame({'Headline': all_news})\n",
    "df['region'] = pd.Series([region_score(SIA.polarity_scores(head))\n",
    "                          for head in tqdm(all_news)])\n",
    "for x in ['neutral', 'critical']:\n",
    "    df[x] = pd.Series([mixed_score(SIA.polarity_scores(head))[x] \n",
    "                       for head in tqdm(all_news)])\n",
    "df.head()"
   ]
  },
  {
   "cell_type": "code",
   "execution_count": 14,
   "metadata": {},
   "outputs": [
    {
     "data": {
      "image/png": "[encoded data removed]",
      "text/plain": [
       "<Figure size 576x432 with 4 Axes>"
      ]
     },
     "metadata": {
      "needs_background": "light"
     },
     "output_type": "display_data"
    }
   ],
   "source": [
    "df[list(df.columns)[1:]].hist(grid=False, figsize=(8,6));"
   ]
  },
  {
   "cell_type": "code",
   "execution_count": 11,
   "metadata": {},
   "outputs": [
    {
     "data": {
      "image/png": "[encoded data removed]",
      "text/plain": [
       "<Figure size 432x288 with 1 Axes>"
      ]
     },
     "metadata": {
      "needs_background": "light"
     },
     "output_type": "display_data"
    }
   ],
   "source": [
    "# =============================================================== #\n",
    "# SIA.polarity_scores() outputs a dictionary of positive/negative\n",
    "# sentiment. Apply region_scoring based on the following rule.\n",
    "# Score determined by where (pos,neg) lands on the below diagram.\n",
    "# =============================================================== #\n",
    "x_arr = np.linspace(0,1)\n",
    "plt.figure()\n",
    "plt.title('Region Scoring')\n",
    "plt.xlabel('polarity_scores() = pos')\n",
    "plt.ylabel('polarity_scores() = neg')\n",
    "\n",
    "plt.fill_between(x_arr, 1, x_arr, color='r', alpha=0.7)\n",
    "plt.fill_between(x_arr, np.log(0.5*(x_arr+2)), color='green', alpha=0.65)\n",
    "plt.axis([0,1,0,1])\n",
    "\n",
    "plt.annotate('Negative Sentiment', (0.2,0.8))\n",
    "plt.annotate('Neutral Sentiment', (0.6,0.5))\n",
    "plt.annotate('Positive Sentiment', (0.5,0.12))\n",
    "\n",
    "plt.show();"
   ]
  },
  {
   "cell_type": "code",
   "execution_count": 10,
   "metadata": {
    "scrolled": false
   },
   "outputs": [
    {
     "data": {
      "text/plain": [
       "region  neutral  critical\n",
       " 0       0        0          8638\n",
       " 1       1        1          3443\n",
       "         0        1          2018\n",
       "-1      -1       -1          1665\n",
       "         0       -1          1125\n",
       " 0       0        1           456\n",
       "        -1       -1           169\n",
       "         0       -1           149\n",
       "         1        1            78\n",
       "-1       0        1             7\n",
       "                  0             6\n",
       "dtype: int64"
      ]
     },
     "execution_count": 10,
     "metadata": {},
     "output_type": "execute_result"
    }
   ],
   "source": [
    "df[list(df.columns)[1:]].value_counts()"
   ]
  },
  {
   "cell_type": "markdown",
   "metadata": {},
   "source": [
    "## To Update:\n",
    "\n",
    "- Create a set of positive features and a set of negative features."
   ]
  },
  {
   "cell_type": "code",
   "execution_count": null,
   "metadata": {},
   "outputs": [],
   "source": [
    "filenames = ['common_adjectives.csv', 'common_adverbs.csv',\n",
    "             'common_nouns.csv', 'common_verbs.csv', 'random_words.csv']\n",
    "\n",
    "# sentiment truths\n",
    "word_truths = pd.concat([pd.read_csv(file) for file in filenames],\n",
    "                        ignore_index=True)\n",
    "\n",
    "positive_words = word_truths[word_truths.Sentiment == 1].Word.unique()\n",
    "negative_words = word_truths[word_truths.Sentiment == -1].Word.unique()\n",
    "# these are to be removed from the corpus\n",
    "neutral_words = word_truths[word_truths.Sentiment == 0].Word.unique()\n",
    "\n",
    "def word_feats(words):\n",
    "    return dict([(word, True) for word in words])\n",
    "\n",
    "positive_features = [(word_feats(pos), 'pos') for pos in positive_words]\n",
    "negative_features = [(word_feats(neg), 'neg') for neg in negative_words]\n",
    "neutral_features = [(word_feats(neut), 'neu') for neut in neutral_words]"
   ]
  },
  {
   "cell_type": "markdown",
   "metadata": {},
   "source": [
    "- Use these words to train a `NaiveBayesClassifier`\n",
    "    - do a binary sentiment classification of headlines\n",
    "- Use a split of the sentences that scored `(111)` or `(-1-1-1)` as the train set\n",
    "    - Test model on the `(111)` and `(-1-1-1)` headlines\n",
    "- Once model is functional, classify the neutral headlines which scored `(000)`\n",
    "    - classify all other sentences with other variations of the inital scores"
   ]
  }
 ],
 "metadata": {
  "kernelspec": {
   "display_name": "Python 3",
   "language": "python",
   "name": "python3"
  },
  "language_info": {
   "codemirror_mode": {
    "name": "ipython",
    "version": 3
   },
   "file_extension": ".py",
   "mimetype": "text/x-python",
   "name": "python",
   "nbconvert_exporter": "python",
   "pygments_lexer": "ipython3",
   "version": "3.7.1"
  }
 },
 "nbformat": 4,
 "nbformat_minor": 2
}
