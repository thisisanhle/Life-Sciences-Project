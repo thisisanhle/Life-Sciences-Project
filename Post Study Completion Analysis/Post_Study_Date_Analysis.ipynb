{
 "cells": [
  {
   "cell_type": "code",
   "execution_count": 84,
   "metadata": {},
   "outputs": [],
   "source": [
    "import dill\n",
    "import pandas as pd\n",
    "import datetime \n",
    "import plotly.express as px"
   ]
  },
  {
   "cell_type": "code",
   "execution_count": 2,
   "metadata": {},
   "outputs": [
    {
     "name": "stdout",
     "output_type": "stream",
     "text": [
      "Pandas version 1.2.4\n"
     ]
    }
   ],
   "source": [
    "print(\"Pandas version\", pd.__version__)"
   ]
  },
  {
   "cell_type": "code",
   "execution_count": 4,
   "metadata": {},
   "outputs": [],
   "source": [
    "df = dill.load(open('Prices/AZN.pkd', 'rb'))"
   ]
  },
  {
   "cell_type": "code",
   "execution_count": 5,
   "metadata": {},
   "outputs": [
    {
     "data": {
      "text/html": [
       "<div>\n",
       "<style scoped>\n",
       "    .dataframe tbody tr th:only-of-type {\n",
       "        vertical-align: middle;\n",
       "    }\n",
       "\n",
       "    .dataframe tbody tr th {\n",
       "        vertical-align: top;\n",
       "    }\n",
       "\n",
       "    .dataframe thead th {\n",
       "        text-align: right;\n",
       "    }\n",
       "</style>\n",
       "<table border=\"1\" class=\"dataframe\">\n",
       "  <thead>\n",
       "    <tr style=\"text-align: right;\">\n",
       "      <th></th>\n",
       "      <th>close</th>\n",
       "      <th>high</th>\n",
       "      <th>low</th>\n",
       "      <th>open</th>\n",
       "      <th>volume</th>\n",
       "      <th>adjClose</th>\n",
       "      <th>adjHigh</th>\n",
       "      <th>adjLow</th>\n",
       "      <th>adjOpen</th>\n",
       "      <th>adjVolume</th>\n",
       "      <th>divCash</th>\n",
       "      <th>splitFactor</th>\n",
       "    </tr>\n",
       "    <tr>\n",
       "      <th>date</th>\n",
       "      <th></th>\n",
       "      <th></th>\n",
       "      <th></th>\n",
       "      <th></th>\n",
       "      <th></th>\n",
       "      <th></th>\n",
       "      <th></th>\n",
       "      <th></th>\n",
       "      <th></th>\n",
       "      <th></th>\n",
       "      <th></th>\n",
       "      <th></th>\n",
       "    </tr>\n",
       "  </thead>\n",
       "  <tbody>\n",
       "    <tr>\n",
       "      <th>1994-12-01</th>\n",
       "      <td>39.13</td>\n",
       "      <td>39.3800</td>\n",
       "      <td>39.13</td>\n",
       "      <td>39.3800</td>\n",
       "      <td>12500</td>\n",
       "      <td>2.656528</td>\n",
       "      <td>2.673500</td>\n",
       "      <td>2.656528</td>\n",
       "      <td>2.673500</td>\n",
       "      <td>75000</td>\n",
       "      <td>0.0</td>\n",
       "      <td>1.0</td>\n",
       "    </tr>\n",
       "    <tr>\n",
       "      <th>1994-12-02</th>\n",
       "      <td>38.75</td>\n",
       "      <td>39.1300</td>\n",
       "      <td>38.75</td>\n",
       "      <td>39.1300</td>\n",
       "      <td>1500</td>\n",
       "      <td>2.630730</td>\n",
       "      <td>2.656528</td>\n",
       "      <td>2.630730</td>\n",
       "      <td>2.656528</td>\n",
       "      <td>9000</td>\n",
       "      <td>0.0</td>\n",
       "      <td>1.0</td>\n",
       "    </tr>\n",
       "    <tr>\n",
       "      <th>1994-12-05</th>\n",
       "      <td>38.75</td>\n",
       "      <td>38.9400</td>\n",
       "      <td>38.75</td>\n",
       "      <td>38.8700</td>\n",
       "      <td>41500</td>\n",
       "      <td>2.630730</td>\n",
       "      <td>2.643629</td>\n",
       "      <td>2.630730</td>\n",
       "      <td>2.638877</td>\n",
       "      <td>249000</td>\n",
       "      <td>0.0</td>\n",
       "      <td>1.0</td>\n",
       "    </tr>\n",
       "    <tr>\n",
       "      <th>1994-12-06</th>\n",
       "      <td>38.87</td>\n",
       "      <td>38.8700</td>\n",
       "      <td>38.75</td>\n",
       "      <td>38.8700</td>\n",
       "      <td>15800</td>\n",
       "      <td>2.638877</td>\n",
       "      <td>2.638877</td>\n",
       "      <td>2.630730</td>\n",
       "      <td>2.638877</td>\n",
       "      <td>94800</td>\n",
       "      <td>0.0</td>\n",
       "      <td>1.0</td>\n",
       "    </tr>\n",
       "    <tr>\n",
       "      <th>1994-12-07</th>\n",
       "      <td>39.00</td>\n",
       "      <td>39.2800</td>\n",
       "      <td>38.75</td>\n",
       "      <td>38.7500</td>\n",
       "      <td>56600</td>\n",
       "      <td>2.647702</td>\n",
       "      <td>2.666711</td>\n",
       "      <td>2.630730</td>\n",
       "      <td>2.630730</td>\n",
       "      <td>339600</td>\n",
       "      <td>0.0</td>\n",
       "      <td>1.0</td>\n",
       "    </tr>\n",
       "    <tr>\n",
       "      <th>...</th>\n",
       "      <td>...</td>\n",
       "      <td>...</td>\n",
       "      <td>...</td>\n",
       "      <td>...</td>\n",
       "      <td>...</td>\n",
       "      <td>...</td>\n",
       "      <td>...</td>\n",
       "      <td>...</td>\n",
       "      <td>...</td>\n",
       "      <td>...</td>\n",
       "      <td>...</td>\n",
       "      <td>...</td>\n",
       "    </tr>\n",
       "    <tr>\n",
       "      <th>2021-01-13</th>\n",
       "      <td>50.88</td>\n",
       "      <td>51.2500</td>\n",
       "      <td>50.67</td>\n",
       "      <td>50.7400</td>\n",
       "      <td>11452845</td>\n",
       "      <td>50.880000</td>\n",
       "      <td>51.250000</td>\n",
       "      <td>50.670000</td>\n",
       "      <td>50.740000</td>\n",
       "      <td>11452845</td>\n",
       "      <td>0.0</td>\n",
       "      <td>1.0</td>\n",
       "    </tr>\n",
       "    <tr>\n",
       "      <th>2021-01-14</th>\n",
       "      <td>51.29</td>\n",
       "      <td>51.8000</td>\n",
       "      <td>51.17</td>\n",
       "      <td>51.4700</td>\n",
       "      <td>11521679</td>\n",
       "      <td>51.290000</td>\n",
       "      <td>51.800000</td>\n",
       "      <td>51.170000</td>\n",
       "      <td>51.470000</td>\n",
       "      <td>11521679</td>\n",
       "      <td>0.0</td>\n",
       "      <td>1.0</td>\n",
       "    </tr>\n",
       "    <tr>\n",
       "      <th>2021-01-15</th>\n",
       "      <td>51.34</td>\n",
       "      <td>51.5600</td>\n",
       "      <td>51.13</td>\n",
       "      <td>51.2900</td>\n",
       "      <td>9523952</td>\n",
       "      <td>51.340000</td>\n",
       "      <td>51.560000</td>\n",
       "      <td>51.130000</td>\n",
       "      <td>51.290000</td>\n",
       "      <td>9523952</td>\n",
       "      <td>0.0</td>\n",
       "      <td>1.0</td>\n",
       "    </tr>\n",
       "    <tr>\n",
       "      <th>2021-01-19</th>\n",
       "      <td>52.57</td>\n",
       "      <td>52.6600</td>\n",
       "      <td>52.21</td>\n",
       "      <td>52.5200</td>\n",
       "      <td>13568686</td>\n",
       "      <td>52.570000</td>\n",
       "      <td>52.660000</td>\n",
       "      <td>52.210000</td>\n",
       "      <td>52.520000</td>\n",
       "      <td>13568686</td>\n",
       "      <td>0.0</td>\n",
       "      <td>1.0</td>\n",
       "    </tr>\n",
       "    <tr>\n",
       "      <th>2021-01-20</th>\n",
       "      <td>52.24</td>\n",
       "      <td>52.6532</td>\n",
       "      <td>51.91</td>\n",
       "      <td>52.6532</td>\n",
       "      <td>13626186</td>\n",
       "      <td>52.240000</td>\n",
       "      <td>52.653200</td>\n",
       "      <td>51.910000</td>\n",
       "      <td>52.653200</td>\n",
       "      <td>13626186</td>\n",
       "      <td>0.0</td>\n",
       "      <td>1.0</td>\n",
       "    </tr>\n",
       "  </tbody>\n",
       "</table>\n",
       "<p>6580 rows × 12 columns</p>\n",
       "</div>"
      ],
      "text/plain": [
       "            close     high    low     open    volume   adjClose    adjHigh  \\\n",
       "date                                                                         \n",
       "1994-12-01  39.13  39.3800  39.13  39.3800     12500   2.656528   2.673500   \n",
       "1994-12-02  38.75  39.1300  38.75  39.1300      1500   2.630730   2.656528   \n",
       "1994-12-05  38.75  38.9400  38.75  38.8700     41500   2.630730   2.643629   \n",
       "1994-12-06  38.87  38.8700  38.75  38.8700     15800   2.638877   2.638877   \n",
       "1994-12-07  39.00  39.2800  38.75  38.7500     56600   2.647702   2.666711   \n",
       "...           ...      ...    ...      ...       ...        ...        ...   \n",
       "2021-01-13  50.88  51.2500  50.67  50.7400  11452845  50.880000  51.250000   \n",
       "2021-01-14  51.29  51.8000  51.17  51.4700  11521679  51.290000  51.800000   \n",
       "2021-01-15  51.34  51.5600  51.13  51.2900   9523952  51.340000  51.560000   \n",
       "2021-01-19  52.57  52.6600  52.21  52.5200  13568686  52.570000  52.660000   \n",
       "2021-01-20  52.24  52.6532  51.91  52.6532  13626186  52.240000  52.653200   \n",
       "\n",
       "               adjLow    adjOpen  adjVolume  divCash  splitFactor  \n",
       "date                                                               \n",
       "1994-12-01   2.656528   2.673500      75000      0.0          1.0  \n",
       "1994-12-02   2.630730   2.656528       9000      0.0          1.0  \n",
       "1994-12-05   2.630730   2.638877     249000      0.0          1.0  \n",
       "1994-12-06   2.630730   2.638877      94800      0.0          1.0  \n",
       "1994-12-07   2.630730   2.630730     339600      0.0          1.0  \n",
       "...               ...        ...        ...      ...          ...  \n",
       "2021-01-13  50.670000  50.740000   11452845      0.0          1.0  \n",
       "2021-01-14  51.170000  51.470000   11521679      0.0          1.0  \n",
       "2021-01-15  51.130000  51.290000    9523952      0.0          1.0  \n",
       "2021-01-19  52.210000  52.520000   13568686      0.0          1.0  \n",
       "2021-01-20  51.910000  52.653200   13626186      0.0          1.0  \n",
       "\n",
       "[6580 rows x 12 columns]"
      ]
     },
     "execution_count": 5,
     "metadata": {},
     "output_type": "execute_result"
    }
   ],
   "source": [
    "df"
   ]
  },
  {
   "cell_type": "code",
   "execution_count": 44,
   "metadata": {},
   "outputs": [],
   "source": [
    "def find_entry(ticker, date, ndays):\n",
    "    df = dill.load(open('Prices/' + ticker + '.pkd', 'rb'))\n",
    "    df = df['close'].reset_index()\n",
    "    \n",
    "    df = df[df['date'] >= date - datetime.timedelta(days = ndays)]\n",
    "    df = df[df['date'] <= date + datetime.timedelta(days = ndays)]\n",
    "    df = df.reset_index()\n",
    "    \n",
    "    return df.iloc[df['close'].idxmin()]"
   ]
  },
  {
   "cell_type": "code",
   "execution_count": 45,
   "metadata": {},
   "outputs": [],
   "source": [
    "def find_exit(ticker, date, ndays):\n",
    "    df = dill.load(open('Prices/' + ticker + '.pkd', 'rb'))\n",
    "    df = df['close'].reset_index()\n",
    "    \n",
    "    df = df[df['date'] >= date - datetime.timedelta(days = ndays)]\n",
    "    df = df[df['date'] <= date + datetime.timedelta(days = ndays)]\n",
    "    df = df.reset_index()\n",
    "    \n",
    "    return df.iloc[df['close'].idxmax()]"
   ]
  },
  {
   "cell_type": "code",
   "execution_count": 71,
   "metadata": {
    "scrolled": false
   },
   "outputs": [
    {
     "data": {
      "text/plain": [
       "index                   6314\n",
       "date     2019-12-31 00:00:00\n",
       "close                  49.86\n",
       "Name: 1, dtype: object"
      ]
     },
     "execution_count": 71,
     "metadata": {},
     "output_type": "execute_result"
    }
   ],
   "source": [
    "find_entry('AZN', datetime.datetime(2020, 1, 1), 2)"
   ]
  },
  {
   "cell_type": "code",
   "execution_count": 162,
   "metadata": {},
   "outputs": [],
   "source": [
    "def calculate_profit_by_period(ticker, date, ndays = 3, period_length = 30, num_periods = 13):\n",
    "    profits = []\n",
    "    original_date = date\n",
    "    \n",
    "    _, entry_date, initial_price, = find_entry('AZN', date, ndays)\n",
    "    \n",
    "    for i in range(num_periods):\n",
    "        date = date + datetime.timedelta(days = period_length)\n",
    "        _, exit_date, new_price = find_exit('AZN', date, ndays)\n",
    "        profits.append({'Period' : i + 1, \n",
    "                        'Percent Profit (%)' : (round((new_price - initial_price) / initial_price, 4)) * 100,  \n",
    "                        'Study Date' : original_date.strftime('%Y-%m-%d'), \n",
    "                        'Entry Date' : entry_date.strftime('%Y-%m-%d'), \n",
    "                        'Exit Date' : exit_date.strftime('%Y-%m-%d')})\n",
    "        \n",
    "    return pd.DataFrame(profits)"
   ]
  },
  {
   "cell_type": "code",
   "execution_count": 163,
   "metadata": {},
   "outputs": [
    {
     "data": {
      "application/vnd.plotly.v1+json": {
       "config": {
        "plotlyServerURL": "https://plot.ly"
       },
       "data": [
        {
         "customdata": [
          [
           "2014-12-31",
           "2015-01-29"
          ],
          [
           "2014-12-31",
           "2015-02-27"
          ],
          [
           "2014-12-31",
           "2015-03-30"
          ],
          [
           "2014-12-31",
           "2015-04-28"
          ],
          [
           "2014-12-31",
           "2015-05-28"
          ],
          [
           "2014-12-31",
           "2015-07-02"
          ],
          [
           "2014-12-31",
           "2015-07-31"
          ],
          [
           "2014-12-31",
           "2015-08-28"
          ],
          [
           "2014-12-31",
           "2015-09-25"
          ],
          [
           "2014-12-31",
           "2015-10-29"
          ],
          [
           "2014-12-31",
           "2015-11-25"
          ],
          [
           "2014-12-31",
           "2015-12-30"
          ],
          [
           "2014-12-31",
           "2016-01-29"
          ]
         ],
         "hovertemplate": "Study Date=2015-01-01<br>Period=%{x}<br>Percent Profit (%)=%{y}<br>Entry Date=%{customdata[0]}<br>Exit Date=%{customdata[1]}<extra></extra>",
         "legendgroup": "2015-01-01",
         "line": {
          "color": "#636efa",
          "dash": "solid"
         },
         "mode": "lines",
         "name": "2015-01-01",
         "showlegend": true,
         "type": "scatter",
         "x": [
          1,
          2,
          3,
          4,
          5,
          6,
          7,
          8,
          9,
          10,
          11,
          12,
          13
         ],
         "xaxis": "x",
         "y": [
          2.15,
          -2.1,
          -0.63,
          -0.61,
          -2.1,
          -7.06,
          -51.99,
          -55.00000000000001,
          -54.02,
          -54.190000000000005,
          -51.53,
          -50.99,
          -54.22
         ],
         "yaxis": "y"
        },
        {
         "customdata": [
          [
           "2016-01-04",
           "2016-02-01"
          ],
          [
           "2016-01-04",
           "2016-03-01"
          ],
          [
           "2016-01-04",
           "2016-03-29"
          ],
          [
           "2016-01-04",
           "2016-04-27"
          ],
          [
           "2016-01-04",
           "2016-05-27"
          ],
          [
           "2016-01-04",
           "2016-07-01"
          ],
          [
           "2016-01-04",
           "2016-07-28"
          ],
          [
           "2016-01-04",
           "2016-08-29"
          ],
          [
           "2016-01-04",
           "2016-09-28"
          ],
          [
           "2016-01-04",
           "2016-10-24"
          ],
          [
           "2016-01-04",
           "2016-11-25"
          ],
          [
           "2016-01-04",
           "2016-12-29"
          ],
          [
           "2016-01-04",
           "2017-01-25"
          ]
         ],
         "hovertemplate": "Study Date=2016-01-01<br>Period=%{x}<br>Percent Profit (%)=%{y}<br>Entry Date=%{customdata[0]}<br>Exit Date=%{customdata[1]}<extra></extra>",
         "legendgroup": "2016-01-01",
         "line": {
          "color": "#EF553B",
          "dash": "solid"
         },
         "mode": "lines",
         "name": "2016-01-01",
         "showlegend": true,
         "type": "scatter",
         "x": [
          1,
          2,
          3,
          4,
          5,
          6,
          7,
          8,
          9,
          10,
          11,
          12,
          13
         ],
         "xaxis": "x",
         "y": [
          -2.6,
          -13.11,
          -14.580000000000002,
          -11.92,
          -10.54,
          -8.92,
          2.6599999999999997,
          -0.3,
          1.26,
          -9.94,
          -18.86,
          -18.08,
          -18.29
         ],
         "yaxis": "y"
        },
        {
         "customdata": [
          [
           "2016-12-30",
           "2017-02-03"
          ],
          [
           "2016-12-30",
           "2017-03-03"
          ],
          [
           "2016-12-30",
           "2017-03-29"
          ],
          [
           "2016-12-30",
           "2017-05-02"
          ],
          [
           "2016-12-30",
           "2017-06-02"
          ],
          [
           "2016-12-30",
           "2017-06-27"
          ],
          [
           "2016-12-30",
           "2017-08-02"
          ],
          [
           "2016-12-30",
           "2017-09-01"
          ],
          [
           "2016-12-30",
           "2017-09-25"
          ],
          [
           "2016-12-30",
           "2017-10-31"
          ],
          [
           "2016-12-30",
           "2017-11-24"
          ],
          [
           "2016-12-30",
           "2017-12-29"
          ],
          [
           "2016-12-30",
           "2018-01-26"
          ]
         ],
         "hovertemplate": "Study Date=2017-01-01<br>Period=%{x}<br>Percent Profit (%)=%{y}<br>Entry Date=%{customdata[0]}<br>Exit Date=%{customdata[1]}<extra></extra>",
         "legendgroup": "2017-01-01",
         "line": {
          "color": "#00cc96",
          "dash": "solid"
         },
         "mode": "lines",
         "name": "2017-01-01",
         "showlegend": true,
         "type": "scatter",
         "x": [
          1,
          2,
          3,
          4,
          5,
          6,
          7,
          8,
          9,
          10,
          11,
          12,
          13
         ],
         "xaxis": "x",
         "y": [
          2.1999999999999997,
          9.520000000000001,
          14.530000000000001,
          12.370000000000001,
          28.51,
          26.540000000000003,
          11.020000000000001,
          10.209999999999999,
          24.45,
          26.279999999999998,
          23.87,
          27.01,
          34.08
         ],
         "yaxis": "y"
        },
        {
         "customdata": [
          [
           "2017-12-29",
           "2018-01-29"
          ],
          [
           "2017-12-29",
           "2018-03-05"
          ],
          [
           "2017-12-29",
           "2018-04-03"
          ],
          [
           "2017-12-29",
           "2018-05-01"
          ],
          [
           "2017-12-29",
           "2018-05-31"
          ],
          [
           "2017-12-29",
           "2018-06-29"
          ],
          [
           "2017-12-29",
           "2018-07-31"
          ],
          [
           "2017-12-29",
           "2018-08-30"
          ],
          [
           "2017-12-29",
           "2018-09-27"
          ],
          [
           "2017-12-29",
           "2018-10-31"
          ],
          [
           "2017-12-29",
           "2018-11-29"
          ],
          [
           "2017-12-29",
           "2018-12-28"
          ],
          [
           "2017-12-29",
           "2019-01-23"
          ]
         ],
         "hovertemplate": "Study Date=2018-01-01<br>Period=%{x}<br>Percent Profit (%)=%{y}<br>Entry Date=%{customdata[0]}<br>Exit Date=%{customdata[1]}<extra></extra>",
         "legendgroup": "2018-01-01",
         "line": {
          "color": "#ab63fa",
          "dash": "solid"
         },
         "mode": "lines",
         "name": "2018-01-01",
         "showlegend": true,
         "type": "scatter",
         "x": [
          1,
          2,
          3,
          4,
          5,
          6,
          7,
          8,
          9,
          10,
          11,
          12,
          13
         ],
         "xaxis": "x",
         "y": [
          4.38,
          -2.31,
          1.5,
          4.15,
          6.710000000000001,
          1.18,
          12.770000000000001,
          12.16,
          14.469999999999999,
          11.76,
          15.879999999999999,
          8.85,
          5.7299999999999995
         ],
         "yaxis": "y"
        },
        {
         "customdata": [
          [
           "2019-01-02",
           "2019-02-01"
          ],
          [
           "2019-01-02",
           "2019-02-27"
          ],
          [
           "2019-01-02",
           "2019-04-02"
          ],
          [
           "2019-01-02",
           "2019-05-03"
          ],
          [
           "2019-01-02",
           "2019-05-28"
          ],
          [
           "2019-01-02",
           "2019-07-03"
          ],
          [
           "2019-01-02",
           "2019-07-29"
          ],
          [
           "2019-01-02",
           "2019-08-29"
          ],
          [
           "2019-01-02",
           "2019-09-26"
          ],
          [
           "2019-01-02",
           "2019-10-31"
          ],
          [
           "2019-01-02",
           "2019-11-25"
          ],
          [
           "2019-01-02",
           "2019-12-27"
          ],
          [
           "2019-01-02",
           "2020-01-23"
          ]
         ],
         "hovertemplate": "Study Date=2019-01-01<br>Period=%{x}<br>Percent Profit (%)=%{y}<br>Entry Date=%{customdata[0]}<br>Exit Date=%{customdata[1]}<extra></extra>",
         "legendgroup": "2019-01-01",
         "line": {
          "color": "#FFA15A",
          "dash": "solid"
         },
         "mode": "lines",
         "name": "2019-01-01",
         "showlegend": true,
         "type": "scatter",
         "x": [
          1,
          2,
          3,
          4,
          5,
          6,
          7,
          8,
          9,
          10,
          11,
          12,
          13
         ],
         "xaxis": "x",
         "y": [
          -3.04,
          12.139999999999999,
          10.03,
          1.6099999999999999,
          0.5599999999999999,
          11.08,
          17.43,
          20.16,
          20.29,
          29.709999999999997,
          29.020000000000003,
          33.44,
          32.800000000000004
         ],
         "yaxis": "y"
        }
       ],
       "layout": {
        "legend": {
         "title": {
          "text": "Study Date"
         },
         "tracegroupgap": 0
        },
        "template": {
         "data": {
          "bar": [
           {
            "error_x": {
             "color": "#2a3f5f"
            },
            "error_y": {
             "color": "#2a3f5f"
            },
            "marker": {
             "line": {
              "color": "#E5ECF6",
              "width": 0.5
             }
            },
            "type": "bar"
           }
          ],
          "barpolar": [
           {
            "marker": {
             "line": {
              "color": "#E5ECF6",
              "width": 0.5
             }
            },
            "type": "barpolar"
           }
          ],
          "carpet": [
           {
            "aaxis": {
             "endlinecolor": "#2a3f5f",
             "gridcolor": "white",
             "linecolor": "white",
             "minorgridcolor": "white",
             "startlinecolor": "#2a3f5f"
            },
            "baxis": {
             "endlinecolor": "#2a3f5f",
             "gridcolor": "white",
             "linecolor": "white",
             "minorgridcolor": "white",
             "startlinecolor": "#2a3f5f"
            },
            "type": "carpet"
           }
          ],
          "choropleth": [
           {
            "colorbar": {
             "outlinewidth": 0,
             "ticks": ""
            },
            "type": "choropleth"
           }
          ],
          "contour": [
           {
            "colorbar": {
             "outlinewidth": 0,
             "ticks": ""
            },
            "colorscale": [
             [
              0,
              "#0d0887"
             ],
             [
              0.1111111111111111,
              "#46039f"
             ],
             [
              0.2222222222222222,
              "#7201a8"
             ],
             [
              0.3333333333333333,
              "#9c179e"
             ],
             [
              0.4444444444444444,
              "#bd3786"
             ],
             [
              0.5555555555555556,
              "#d8576b"
             ],
             [
              0.6666666666666666,
              "#ed7953"
             ],
             [
              0.7777777777777778,
              "#fb9f3a"
             ],
             [
              0.8888888888888888,
              "#fdca26"
             ],
             [
              1,
              "#f0f921"
             ]
            ],
            "type": "contour"
           }
          ],
          "contourcarpet": [
           {
            "colorbar": {
             "outlinewidth": 0,
             "ticks": ""
            },
            "type": "contourcarpet"
           }
          ],
          "heatmap": [
           {
            "colorbar": {
             "outlinewidth": 0,
             "ticks": ""
            },
            "colorscale": [
             [
              0,
              "#0d0887"
             ],
             [
              0.1111111111111111,
              "#46039f"
             ],
             [
              0.2222222222222222,
              "#7201a8"
             ],
             [
              0.3333333333333333,
              "#9c179e"
             ],
             [
              0.4444444444444444,
              "#bd3786"
             ],
             [
              0.5555555555555556,
              "#d8576b"
             ],
             [
              0.6666666666666666,
              "#ed7953"
             ],
             [
              0.7777777777777778,
              "#fb9f3a"
             ],
             [
              0.8888888888888888,
              "#fdca26"
             ],
             [
              1,
              "#f0f921"
             ]
            ],
            "type": "heatmap"
           }
          ],
          "heatmapgl": [
           {
            "colorbar": {
             "outlinewidth": 0,
             "ticks": ""
            },
            "colorscale": [
             [
              0,
              "#0d0887"
             ],
             [
              0.1111111111111111,
              "#46039f"
             ],
             [
              0.2222222222222222,
              "#7201a8"
             ],
             [
              0.3333333333333333,
              "#9c179e"
             ],
             [
              0.4444444444444444,
              "#bd3786"
             ],
             [
              0.5555555555555556,
              "#d8576b"
             ],
             [
              0.6666666666666666,
              "#ed7953"
             ],
             [
              0.7777777777777778,
              "#fb9f3a"
             ],
             [
              0.8888888888888888,
              "#fdca26"
             ],
             [
              1,
              "#f0f921"
             ]
            ],
            "type": "heatmapgl"
           }
          ],
          "histogram": [
           {
            "marker": {
             "colorbar": {
              "outlinewidth": 0,
              "ticks": ""
             }
            },
            "type": "histogram"
           }
          ],
          "histogram2d": [
           {
            "colorbar": {
             "outlinewidth": 0,
             "ticks": ""
            },
            "colorscale": [
             [
              0,
              "#0d0887"
             ],
             [
              0.1111111111111111,
              "#46039f"
             ],
             [
              0.2222222222222222,
              "#7201a8"
             ],
             [
              0.3333333333333333,
              "#9c179e"
             ],
             [
              0.4444444444444444,
              "#bd3786"
             ],
             [
              0.5555555555555556,
              "#d8576b"
             ],
             [
              0.6666666666666666,
              "#ed7953"
             ],
             [
              0.7777777777777778,
              "#fb9f3a"
             ],
             [
              0.8888888888888888,
              "#fdca26"
             ],
             [
              1,
              "#f0f921"
             ]
            ],
            "type": "histogram2d"
           }
          ],
          "histogram2dcontour": [
           {
            "colorbar": {
             "outlinewidth": 0,
             "ticks": ""
            },
            "colorscale": [
             [
              0,
              "#0d0887"
             ],
             [
              0.1111111111111111,
              "#46039f"
             ],
             [
              0.2222222222222222,
              "#7201a8"
             ],
             [
              0.3333333333333333,
              "#9c179e"
             ],
             [
              0.4444444444444444,
              "#bd3786"
             ],
             [
              0.5555555555555556,
              "#d8576b"
             ],
             [
              0.6666666666666666,
              "#ed7953"
             ],
             [
              0.7777777777777778,
              "#fb9f3a"
             ],
             [
              0.8888888888888888,
              "#fdca26"
             ],
             [
              1,
              "#f0f921"
             ]
            ],
            "type": "histogram2dcontour"
           }
          ],
          "mesh3d": [
           {
            "colorbar": {
             "outlinewidth": 0,
             "ticks": ""
            },
            "type": "mesh3d"
           }
          ],
          "parcoords": [
           {
            "line": {
             "colorbar": {
              "outlinewidth": 0,
              "ticks": ""
             }
            },
            "type": "parcoords"
           }
          ],
          "pie": [
           {
            "automargin": true,
            "type": "pie"
           }
          ],
          "scatter": [
           {
            "marker": {
             "colorbar": {
              "outlinewidth": 0,
              "ticks": ""
             }
            },
            "type": "scatter"
           }
          ],
          "scatter3d": [
           {
            "line": {
             "colorbar": {
              "outlinewidth": 0,
              "ticks": ""
             }
            },
            "marker": {
             "colorbar": {
              "outlinewidth": 0,
              "ticks": ""
             }
            },
            "type": "scatter3d"
           }
          ],
          "scattercarpet": [
           {
            "marker": {
             "colorbar": {
              "outlinewidth": 0,
              "ticks": ""
             }
            },
            "type": "scattercarpet"
           }
          ],
          "scattergeo": [
           {
            "marker": {
             "colorbar": {
              "outlinewidth": 0,
              "ticks": ""
             }
            },
            "type": "scattergeo"
           }
          ],
          "scattergl": [
           {
            "marker": {
             "colorbar": {
              "outlinewidth": 0,
              "ticks": ""
             }
            },
            "type": "scattergl"
           }
          ],
          "scattermapbox": [
           {
            "marker": {
             "colorbar": {
              "outlinewidth": 0,
              "ticks": ""
             }
            },
            "type": "scattermapbox"
           }
          ],
          "scatterpolar": [
           {
            "marker": {
             "colorbar": {
              "outlinewidth": 0,
              "ticks": ""
             }
            },
            "type": "scatterpolar"
           }
          ],
          "scatterpolargl": [
           {
            "marker": {
             "colorbar": {
              "outlinewidth": 0,
              "ticks": ""
             }
            },
            "type": "scatterpolargl"
           }
          ],
          "scatterternary": [
           {
            "marker": {
             "colorbar": {
              "outlinewidth": 0,
              "ticks": ""
             }
            },
            "type": "scatterternary"
           }
          ],
          "surface": [
           {
            "colorbar": {
             "outlinewidth": 0,
             "ticks": ""
            },
            "colorscale": [
             [
              0,
              "#0d0887"
             ],
             [
              0.1111111111111111,
              "#46039f"
             ],
             [
              0.2222222222222222,
              "#7201a8"
             ],
             [
              0.3333333333333333,
              "#9c179e"
             ],
             [
              0.4444444444444444,
              "#bd3786"
             ],
             [
              0.5555555555555556,
              "#d8576b"
             ],
             [
              0.6666666666666666,
              "#ed7953"
             ],
             [
              0.7777777777777778,
              "#fb9f3a"
             ],
             [
              0.8888888888888888,
              "#fdca26"
             ],
             [
              1,
              "#f0f921"
             ]
            ],
            "type": "surface"
           }
          ],
          "table": [
           {
            "cells": {
             "fill": {
              "color": "#EBF0F8"
             },
             "line": {
              "color": "white"
             }
            },
            "header": {
             "fill": {
              "color": "#C8D4E3"
             },
             "line": {
              "color": "white"
             }
            },
            "type": "table"
           }
          ]
         },
         "layout": {
          "annotationdefaults": {
           "arrowcolor": "#2a3f5f",
           "arrowhead": 0,
           "arrowwidth": 1
          },
          "coloraxis": {
           "colorbar": {
            "outlinewidth": 0,
            "ticks": ""
           }
          },
          "colorscale": {
           "diverging": [
            [
             0,
             "#8e0152"
            ],
            [
             0.1,
             "#c51b7d"
            ],
            [
             0.2,
             "#de77ae"
            ],
            [
             0.3,
             "#f1b6da"
            ],
            [
             0.4,
             "#fde0ef"
            ],
            [
             0.5,
             "#f7f7f7"
            ],
            [
             0.6,
             "#e6f5d0"
            ],
            [
             0.7,
             "#b8e186"
            ],
            [
             0.8,
             "#7fbc41"
            ],
            [
             0.9,
             "#4d9221"
            ],
            [
             1,
             "#276419"
            ]
           ],
           "sequential": [
            [
             0,
             "#0d0887"
            ],
            [
             0.1111111111111111,
             "#46039f"
            ],
            [
             0.2222222222222222,
             "#7201a8"
            ],
            [
             0.3333333333333333,
             "#9c179e"
            ],
            [
             0.4444444444444444,
             "#bd3786"
            ],
            [
             0.5555555555555556,
             "#d8576b"
            ],
            [
             0.6666666666666666,
             "#ed7953"
            ],
            [
             0.7777777777777778,
             "#fb9f3a"
            ],
            [
             0.8888888888888888,
             "#fdca26"
            ],
            [
             1,
             "#f0f921"
            ]
           ],
           "sequentialminus": [
            [
             0,
             "#0d0887"
            ],
            [
             0.1111111111111111,
             "#46039f"
            ],
            [
             0.2222222222222222,
             "#7201a8"
            ],
            [
             0.3333333333333333,
             "#9c179e"
            ],
            [
             0.4444444444444444,
             "#bd3786"
            ],
            [
             0.5555555555555556,
             "#d8576b"
            ],
            [
             0.6666666666666666,
             "#ed7953"
            ],
            [
             0.7777777777777778,
             "#fb9f3a"
            ],
            [
             0.8888888888888888,
             "#fdca26"
            ],
            [
             1,
             "#f0f921"
            ]
           ]
          },
          "colorway": [
           "#636efa",
           "#EF553B",
           "#00cc96",
           "#ab63fa",
           "#FFA15A",
           "#19d3f3",
           "#FF6692",
           "#B6E880",
           "#FF97FF",
           "#FECB52"
          ],
          "font": {
           "color": "#2a3f5f"
          },
          "geo": {
           "bgcolor": "white",
           "lakecolor": "white",
           "landcolor": "#E5ECF6",
           "showlakes": true,
           "showland": true,
           "subunitcolor": "white"
          },
          "hoverlabel": {
           "align": "left"
          },
          "hovermode": "closest",
          "mapbox": {
           "style": "light"
          },
          "paper_bgcolor": "white",
          "plot_bgcolor": "#E5ECF6",
          "polar": {
           "angularaxis": {
            "gridcolor": "white",
            "linecolor": "white",
            "ticks": ""
           },
           "bgcolor": "#E5ECF6",
           "radialaxis": {
            "gridcolor": "white",
            "linecolor": "white",
            "ticks": ""
           }
          },
          "scene": {
           "xaxis": {
            "backgroundcolor": "#E5ECF6",
            "gridcolor": "white",
            "gridwidth": 2,
            "linecolor": "white",
            "showbackground": true,
            "ticks": "",
            "zerolinecolor": "white"
           },
           "yaxis": {
            "backgroundcolor": "#E5ECF6",
            "gridcolor": "white",
            "gridwidth": 2,
            "linecolor": "white",
            "showbackground": true,
            "ticks": "",
            "zerolinecolor": "white"
           },
           "zaxis": {
            "backgroundcolor": "#E5ECF6",
            "gridcolor": "white",
            "gridwidth": 2,
            "linecolor": "white",
            "showbackground": true,
            "ticks": "",
            "zerolinecolor": "white"
           }
          },
          "shapedefaults": {
           "line": {
            "color": "#2a3f5f"
           }
          },
          "ternary": {
           "aaxis": {
            "gridcolor": "white",
            "linecolor": "white",
            "ticks": ""
           },
           "baxis": {
            "gridcolor": "white",
            "linecolor": "white",
            "ticks": ""
           },
           "bgcolor": "#E5ECF6",
           "caxis": {
            "gridcolor": "white",
            "linecolor": "white",
            "ticks": ""
           }
          },
          "title": {
           "x": 0.05
          },
          "xaxis": {
           "automargin": true,
           "gridcolor": "white",
           "linecolor": "white",
           "ticks": "",
           "title": {
            "standoff": 15
           },
           "zerolinecolor": "white",
           "zerolinewidth": 2
          },
          "yaxis": {
           "automargin": true,
           "gridcolor": "white",
           "linecolor": "white",
           "ticks": "",
           "title": {
            "standoff": 15
           },
           "zerolinecolor": "white",
           "zerolinewidth": 2
          }
         }
        },
        "title": {
         "text": "AZN Profit After Studies Over 30 Day Periods"
        },
        "xaxis": {
         "anchor": "y",
         "domain": [
          0,
          1
         ],
         "title": {
          "text": "Period"
         },
         "type": "category"
        },
        "yaxis": {
         "anchor": "x",
         "domain": [
          0,
          1
         ],
         "title": {
          "text": "Percent Profit (%)"
         }
        }
       }
      },
      "text/html": [
       "<div>\n",
       "        \n",
       "        \n",
       "            <div id=\"f286bb21-f5d6-4032-801b-f373ecf2c8b9\" class=\"plotly-graph-div\" style=\"height:525px; width:100%;\"></div>\n",
       "            <script type=\"text/javascript\">\n",
       "                require([\"plotly\"], function(Plotly) {\n",
       "                    window.PLOTLYENV=window.PLOTLYENV || {};\n",
       "                    \n",
       "                if (document.getElementById(\"f286bb21-f5d6-4032-801b-f373ecf2c8b9\")) {\n",
       "                    Plotly.newPlot(\n",
       "                        'f286bb21-f5d6-4032-801b-f373ecf2c8b9',\n",
       "                        [{\"customdata\": [[\"2014-12-31\", \"2015-01-29\"], [\"2014-12-31\", \"2015-02-27\"], [\"2014-12-31\", \"2015-03-30\"], [\"2014-12-31\", \"2015-04-28\"], [\"2014-12-31\", \"2015-05-28\"], [\"2014-12-31\", \"2015-07-02\"], [\"2014-12-31\", \"2015-07-31\"], [\"2014-12-31\", \"2015-08-28\"], [\"2014-12-31\", \"2015-09-25\"], [\"2014-12-31\", \"2015-10-29\"], [\"2014-12-31\", \"2015-11-25\"], [\"2014-12-31\", \"2015-12-30\"], [\"2014-12-31\", \"2016-01-29\"]], \"hovertemplate\": \"Study Date=2015-01-01<br>Period=%{x}<br>Percent Profit (%)=%{y}<br>Entry Date=%{customdata[0]}<br>Exit Date=%{customdata[1]}<extra></extra>\", \"legendgroup\": \"2015-01-01\", \"line\": {\"color\": \"#636efa\", \"dash\": \"solid\"}, \"mode\": \"lines\", \"name\": \"2015-01-01\", \"showlegend\": true, \"type\": \"scatter\", \"x\": [1, 2, 3, 4, 5, 6, 7, 8, 9, 10, 11, 12, 13], \"xaxis\": \"x\", \"y\": [2.15, -2.1, -0.63, -0.61, -2.1, -7.06, -51.99, -55.00000000000001, -54.02, -54.190000000000005, -51.53, -50.99, -54.22], \"yaxis\": \"y\"}, {\"customdata\": [[\"2016-01-04\", \"2016-02-01\"], [\"2016-01-04\", \"2016-03-01\"], [\"2016-01-04\", \"2016-03-29\"], [\"2016-01-04\", \"2016-04-27\"], [\"2016-01-04\", \"2016-05-27\"], [\"2016-01-04\", \"2016-07-01\"], [\"2016-01-04\", \"2016-07-28\"], [\"2016-01-04\", \"2016-08-29\"], [\"2016-01-04\", \"2016-09-28\"], [\"2016-01-04\", \"2016-10-24\"], [\"2016-01-04\", \"2016-11-25\"], [\"2016-01-04\", \"2016-12-29\"], [\"2016-01-04\", \"2017-01-25\"]], \"hovertemplate\": \"Study Date=2016-01-01<br>Period=%{x}<br>Percent Profit (%)=%{y}<br>Entry Date=%{customdata[0]}<br>Exit Date=%{customdata[1]}<extra></extra>\", \"legendgroup\": \"2016-01-01\", \"line\": {\"color\": \"#EF553B\", \"dash\": \"solid\"}, \"mode\": \"lines\", \"name\": \"2016-01-01\", \"showlegend\": true, \"type\": \"scatter\", \"x\": [1, 2, 3, 4, 5, 6, 7, 8, 9, 10, 11, 12, 13], \"xaxis\": \"x\", \"y\": [-2.6, -13.11, -14.580000000000002, -11.92, -10.54, -8.92, 2.6599999999999997, -0.3, 1.26, -9.94, -18.86, -18.08, -18.29], \"yaxis\": \"y\"}, {\"customdata\": [[\"2016-12-30\", \"2017-02-03\"], [\"2016-12-30\", \"2017-03-03\"], [\"2016-12-30\", \"2017-03-29\"], [\"2016-12-30\", \"2017-05-02\"], [\"2016-12-30\", \"2017-06-02\"], [\"2016-12-30\", \"2017-06-27\"], [\"2016-12-30\", \"2017-08-02\"], [\"2016-12-30\", \"2017-09-01\"], [\"2016-12-30\", \"2017-09-25\"], [\"2016-12-30\", \"2017-10-31\"], [\"2016-12-30\", \"2017-11-24\"], [\"2016-12-30\", \"2017-12-29\"], [\"2016-12-30\", \"2018-01-26\"]], \"hovertemplate\": \"Study Date=2017-01-01<br>Period=%{x}<br>Percent Profit (%)=%{y}<br>Entry Date=%{customdata[0]}<br>Exit Date=%{customdata[1]}<extra></extra>\", \"legendgroup\": \"2017-01-01\", \"line\": {\"color\": \"#00cc96\", \"dash\": \"solid\"}, \"mode\": \"lines\", \"name\": \"2017-01-01\", \"showlegend\": true, \"type\": \"scatter\", \"x\": [1, 2, 3, 4, 5, 6, 7, 8, 9, 10, 11, 12, 13], \"xaxis\": \"x\", \"y\": [2.1999999999999997, 9.520000000000001, 14.530000000000001, 12.370000000000001, 28.51, 26.540000000000003, 11.020000000000001, 10.209999999999999, 24.45, 26.279999999999998, 23.87, 27.01, 34.08], \"yaxis\": \"y\"}, {\"customdata\": [[\"2017-12-29\", \"2018-01-29\"], [\"2017-12-29\", \"2018-03-05\"], [\"2017-12-29\", \"2018-04-03\"], [\"2017-12-29\", \"2018-05-01\"], [\"2017-12-29\", \"2018-05-31\"], [\"2017-12-29\", \"2018-06-29\"], [\"2017-12-29\", \"2018-07-31\"], [\"2017-12-29\", \"2018-08-30\"], [\"2017-12-29\", \"2018-09-27\"], [\"2017-12-29\", \"2018-10-31\"], [\"2017-12-29\", \"2018-11-29\"], [\"2017-12-29\", \"2018-12-28\"], [\"2017-12-29\", \"2019-01-23\"]], \"hovertemplate\": \"Study Date=2018-01-01<br>Period=%{x}<br>Percent Profit (%)=%{y}<br>Entry Date=%{customdata[0]}<br>Exit Date=%{customdata[1]}<extra></extra>\", \"legendgroup\": \"2018-01-01\", \"line\": {\"color\": \"#ab63fa\", \"dash\": \"solid\"}, \"mode\": \"lines\", \"name\": \"2018-01-01\", \"showlegend\": true, \"type\": \"scatter\", \"x\": [1, 2, 3, 4, 5, 6, 7, 8, 9, 10, 11, 12, 13], \"xaxis\": \"x\", \"y\": [4.38, -2.31, 1.5, 4.15, 6.710000000000001, 1.18, 12.770000000000001, 12.16, 14.469999999999999, 11.76, 15.879999999999999, 8.85, 5.7299999999999995], \"yaxis\": \"y\"}, {\"customdata\": [[\"2019-01-02\", \"2019-02-01\"], [\"2019-01-02\", \"2019-02-27\"], [\"2019-01-02\", \"2019-04-02\"], [\"2019-01-02\", \"2019-05-03\"], [\"2019-01-02\", \"2019-05-28\"], [\"2019-01-02\", \"2019-07-03\"], [\"2019-01-02\", \"2019-07-29\"], [\"2019-01-02\", \"2019-08-29\"], [\"2019-01-02\", \"2019-09-26\"], [\"2019-01-02\", \"2019-10-31\"], [\"2019-01-02\", \"2019-11-25\"], [\"2019-01-02\", \"2019-12-27\"], [\"2019-01-02\", \"2020-01-23\"]], \"hovertemplate\": \"Study Date=2019-01-01<br>Period=%{x}<br>Percent Profit (%)=%{y}<br>Entry Date=%{customdata[0]}<br>Exit Date=%{customdata[1]}<extra></extra>\", \"legendgroup\": \"2019-01-01\", \"line\": {\"color\": \"#FFA15A\", \"dash\": \"solid\"}, \"mode\": \"lines\", \"name\": \"2019-01-01\", \"showlegend\": true, \"type\": \"scatter\", \"x\": [1, 2, 3, 4, 5, 6, 7, 8, 9, 10, 11, 12, 13], \"xaxis\": \"x\", \"y\": [-3.04, 12.139999999999999, 10.03, 1.6099999999999999, 0.5599999999999999, 11.08, 17.43, 20.16, 20.29, 29.709999999999997, 29.020000000000003, 33.44, 32.800000000000004], \"yaxis\": \"y\"}],\n",
       "                        {\"legend\": {\"title\": {\"text\": \"Study Date\"}, \"tracegroupgap\": 0}, \"template\": {\"data\": {\"bar\": [{\"error_x\": {\"color\": \"#2a3f5f\"}, \"error_y\": {\"color\": \"#2a3f5f\"}, \"marker\": {\"line\": {\"color\": \"#E5ECF6\", \"width\": 0.5}}, \"type\": \"bar\"}], \"barpolar\": [{\"marker\": {\"line\": {\"color\": \"#E5ECF6\", \"width\": 0.5}}, \"type\": \"barpolar\"}], \"carpet\": [{\"aaxis\": {\"endlinecolor\": \"#2a3f5f\", \"gridcolor\": \"white\", \"linecolor\": \"white\", \"minorgridcolor\": \"white\", \"startlinecolor\": \"#2a3f5f\"}, \"baxis\": {\"endlinecolor\": \"#2a3f5f\", \"gridcolor\": \"white\", \"linecolor\": \"white\", \"minorgridcolor\": \"white\", \"startlinecolor\": \"#2a3f5f\"}, \"type\": \"carpet\"}], \"choropleth\": [{\"colorbar\": {\"outlinewidth\": 0, \"ticks\": \"\"}, \"type\": \"choropleth\"}], \"contour\": [{\"colorbar\": {\"outlinewidth\": 0, \"ticks\": \"\"}, \"colorscale\": [[0.0, \"#0d0887\"], [0.1111111111111111, \"#46039f\"], [0.2222222222222222, \"#7201a8\"], [0.3333333333333333, \"#9c179e\"], [0.4444444444444444, \"#bd3786\"], [0.5555555555555556, \"#d8576b\"], [0.6666666666666666, \"#ed7953\"], [0.7777777777777778, \"#fb9f3a\"], [0.8888888888888888, \"#fdca26\"], [1.0, \"#f0f921\"]], \"type\": \"contour\"}], \"contourcarpet\": [{\"colorbar\": {\"outlinewidth\": 0, \"ticks\": \"\"}, \"type\": \"contourcarpet\"}], \"heatmap\": [{\"colorbar\": {\"outlinewidth\": 0, \"ticks\": \"\"}, \"colorscale\": [[0.0, \"#0d0887\"], [0.1111111111111111, \"#46039f\"], [0.2222222222222222, \"#7201a8\"], [0.3333333333333333, \"#9c179e\"], [0.4444444444444444, \"#bd3786\"], [0.5555555555555556, \"#d8576b\"], [0.6666666666666666, \"#ed7953\"], [0.7777777777777778, \"#fb9f3a\"], [0.8888888888888888, \"#fdca26\"], [1.0, \"#f0f921\"]], \"type\": \"heatmap\"}], \"heatmapgl\": [{\"colorbar\": {\"outlinewidth\": 0, \"ticks\": \"\"}, \"colorscale\": [[0.0, \"#0d0887\"], [0.1111111111111111, \"#46039f\"], [0.2222222222222222, \"#7201a8\"], [0.3333333333333333, \"#9c179e\"], [0.4444444444444444, \"#bd3786\"], [0.5555555555555556, \"#d8576b\"], [0.6666666666666666, \"#ed7953\"], [0.7777777777777778, \"#fb9f3a\"], [0.8888888888888888, \"#fdca26\"], [1.0, \"#f0f921\"]], \"type\": \"heatmapgl\"}], \"histogram\": [{\"marker\": {\"colorbar\": {\"outlinewidth\": 0, \"ticks\": \"\"}}, \"type\": \"histogram\"}], \"histogram2d\": [{\"colorbar\": {\"outlinewidth\": 0, \"ticks\": \"\"}, \"colorscale\": [[0.0, \"#0d0887\"], [0.1111111111111111, \"#46039f\"], [0.2222222222222222, \"#7201a8\"], [0.3333333333333333, \"#9c179e\"], [0.4444444444444444, \"#bd3786\"], [0.5555555555555556, \"#d8576b\"], [0.6666666666666666, \"#ed7953\"], [0.7777777777777778, \"#fb9f3a\"], [0.8888888888888888, \"#fdca26\"], [1.0, \"#f0f921\"]], \"type\": \"histogram2d\"}], \"histogram2dcontour\": [{\"colorbar\": {\"outlinewidth\": 0, \"ticks\": \"\"}, \"colorscale\": [[0.0, \"#0d0887\"], [0.1111111111111111, \"#46039f\"], [0.2222222222222222, \"#7201a8\"], [0.3333333333333333, \"#9c179e\"], [0.4444444444444444, \"#bd3786\"], [0.5555555555555556, \"#d8576b\"], [0.6666666666666666, \"#ed7953\"], [0.7777777777777778, \"#fb9f3a\"], [0.8888888888888888, \"#fdca26\"], [1.0, \"#f0f921\"]], \"type\": \"histogram2dcontour\"}], \"mesh3d\": [{\"colorbar\": {\"outlinewidth\": 0, \"ticks\": \"\"}, \"type\": \"mesh3d\"}], \"parcoords\": [{\"line\": {\"colorbar\": {\"outlinewidth\": 0, \"ticks\": \"\"}}, \"type\": \"parcoords\"}], \"pie\": [{\"automargin\": true, \"type\": \"pie\"}], \"scatter\": [{\"marker\": {\"colorbar\": {\"outlinewidth\": 0, \"ticks\": \"\"}}, \"type\": \"scatter\"}], \"scatter3d\": [{\"line\": {\"colorbar\": {\"outlinewidth\": 0, \"ticks\": \"\"}}, \"marker\": {\"colorbar\": {\"outlinewidth\": 0, \"ticks\": \"\"}}, \"type\": \"scatter3d\"}], \"scattercarpet\": [{\"marker\": {\"colorbar\": {\"outlinewidth\": 0, \"ticks\": \"\"}}, \"type\": \"scattercarpet\"}], \"scattergeo\": [{\"marker\": {\"colorbar\": {\"outlinewidth\": 0, \"ticks\": \"\"}}, \"type\": \"scattergeo\"}], \"scattergl\": [{\"marker\": {\"colorbar\": {\"outlinewidth\": 0, \"ticks\": \"\"}}, \"type\": \"scattergl\"}], \"scattermapbox\": [{\"marker\": {\"colorbar\": {\"outlinewidth\": 0, \"ticks\": \"\"}}, \"type\": \"scattermapbox\"}], \"scatterpolar\": [{\"marker\": {\"colorbar\": {\"outlinewidth\": 0, \"ticks\": \"\"}}, \"type\": \"scatterpolar\"}], \"scatterpolargl\": [{\"marker\": {\"colorbar\": {\"outlinewidth\": 0, \"ticks\": \"\"}}, \"type\": \"scatterpolargl\"}], \"scatterternary\": [{\"marker\": {\"colorbar\": {\"outlinewidth\": 0, \"ticks\": \"\"}}, \"type\": \"scatterternary\"}], \"surface\": [{\"colorbar\": {\"outlinewidth\": 0, \"ticks\": \"\"}, \"colorscale\": [[0.0, \"#0d0887\"], [0.1111111111111111, \"#46039f\"], [0.2222222222222222, \"#7201a8\"], [0.3333333333333333, \"#9c179e\"], [0.4444444444444444, \"#bd3786\"], [0.5555555555555556, \"#d8576b\"], [0.6666666666666666, \"#ed7953\"], [0.7777777777777778, \"#fb9f3a\"], [0.8888888888888888, \"#fdca26\"], [1.0, \"#f0f921\"]], \"type\": \"surface\"}], \"table\": [{\"cells\": {\"fill\": {\"color\": \"#EBF0F8\"}, \"line\": {\"color\": \"white\"}}, \"header\": {\"fill\": {\"color\": \"#C8D4E3\"}, \"line\": {\"color\": \"white\"}}, \"type\": \"table\"}]}, \"layout\": {\"annotationdefaults\": {\"arrowcolor\": \"#2a3f5f\", \"arrowhead\": 0, \"arrowwidth\": 1}, \"coloraxis\": {\"colorbar\": {\"outlinewidth\": 0, \"ticks\": \"\"}}, \"colorscale\": {\"diverging\": [[0, \"#8e0152\"], [0.1, \"#c51b7d\"], [0.2, \"#de77ae\"], [0.3, \"#f1b6da\"], [0.4, \"#fde0ef\"], [0.5, \"#f7f7f7\"], [0.6, \"#e6f5d0\"], [0.7, \"#b8e186\"], [0.8, \"#7fbc41\"], [0.9, \"#4d9221\"], [1, \"#276419\"]], \"sequential\": [[0.0, \"#0d0887\"], [0.1111111111111111, \"#46039f\"], [0.2222222222222222, \"#7201a8\"], [0.3333333333333333, \"#9c179e\"], [0.4444444444444444, \"#bd3786\"], [0.5555555555555556, \"#d8576b\"], [0.6666666666666666, \"#ed7953\"], [0.7777777777777778, \"#fb9f3a\"], [0.8888888888888888, \"#fdca26\"], [1.0, \"#f0f921\"]], \"sequentialminus\": [[0.0, \"#0d0887\"], [0.1111111111111111, \"#46039f\"], [0.2222222222222222, \"#7201a8\"], [0.3333333333333333, \"#9c179e\"], [0.4444444444444444, \"#bd3786\"], [0.5555555555555556, \"#d8576b\"], [0.6666666666666666, \"#ed7953\"], [0.7777777777777778, \"#fb9f3a\"], [0.8888888888888888, \"#fdca26\"], [1.0, \"#f0f921\"]]}, \"colorway\": [\"#636efa\", \"#EF553B\", \"#00cc96\", \"#ab63fa\", \"#FFA15A\", \"#19d3f3\", \"#FF6692\", \"#B6E880\", \"#FF97FF\", \"#FECB52\"], \"font\": {\"color\": \"#2a3f5f\"}, \"geo\": {\"bgcolor\": \"white\", \"lakecolor\": \"white\", \"landcolor\": \"#E5ECF6\", \"showlakes\": true, \"showland\": true, \"subunitcolor\": \"white\"}, \"hoverlabel\": {\"align\": \"left\"}, \"hovermode\": \"closest\", \"mapbox\": {\"style\": \"light\"}, \"paper_bgcolor\": \"white\", \"plot_bgcolor\": \"#E5ECF6\", \"polar\": {\"angularaxis\": {\"gridcolor\": \"white\", \"linecolor\": \"white\", \"ticks\": \"\"}, \"bgcolor\": \"#E5ECF6\", \"radialaxis\": {\"gridcolor\": \"white\", \"linecolor\": \"white\", \"ticks\": \"\"}}, \"scene\": {\"xaxis\": {\"backgroundcolor\": \"#E5ECF6\", \"gridcolor\": \"white\", \"gridwidth\": 2, \"linecolor\": \"white\", \"showbackground\": true, \"ticks\": \"\", \"zerolinecolor\": \"white\"}, \"yaxis\": {\"backgroundcolor\": \"#E5ECF6\", \"gridcolor\": \"white\", \"gridwidth\": 2, \"linecolor\": \"white\", \"showbackground\": true, \"ticks\": \"\", \"zerolinecolor\": \"white\"}, \"zaxis\": {\"backgroundcolor\": \"#E5ECF6\", \"gridcolor\": \"white\", \"gridwidth\": 2, \"linecolor\": \"white\", \"showbackground\": true, \"ticks\": \"\", \"zerolinecolor\": \"white\"}}, \"shapedefaults\": {\"line\": {\"color\": \"#2a3f5f\"}}, \"ternary\": {\"aaxis\": {\"gridcolor\": \"white\", \"linecolor\": \"white\", \"ticks\": \"\"}, \"baxis\": {\"gridcolor\": \"white\", \"linecolor\": \"white\", \"ticks\": \"\"}, \"bgcolor\": \"#E5ECF6\", \"caxis\": {\"gridcolor\": \"white\", \"linecolor\": \"white\", \"ticks\": \"\"}}, \"title\": {\"x\": 0.05}, \"xaxis\": {\"automargin\": true, \"gridcolor\": \"white\", \"linecolor\": \"white\", \"ticks\": \"\", \"title\": {\"standoff\": 15}, \"zerolinecolor\": \"white\", \"zerolinewidth\": 2}, \"yaxis\": {\"automargin\": true, \"gridcolor\": \"white\", \"linecolor\": \"white\", \"ticks\": \"\", \"title\": {\"standoff\": 15}, \"zerolinecolor\": \"white\", \"zerolinewidth\": 2}}}, \"title\": {\"text\": \"AZN Profit After Studies Over 30 Day Periods\"}, \"xaxis\": {\"anchor\": \"y\", \"domain\": [0.0, 1.0], \"title\": {\"text\": \"Period\"}, \"type\": \"category\"}, \"yaxis\": {\"anchor\": \"x\", \"domain\": [0.0, 1.0], \"title\": {\"text\": \"Percent Profit (%)\"}}},\n",
       "                        {\"responsive\": true}\n",
       "                    ).then(function(){\n",
       "                            \n",
       "var gd = document.getElementById('f286bb21-f5d6-4032-801b-f373ecf2c8b9');\n",
       "var x = new MutationObserver(function (mutations, observer) {{\n",
       "        var display = window.getComputedStyle(gd).display;\n",
       "        if (!display || display === 'none') {{\n",
       "            console.log([gd, 'removed!']);\n",
       "            Plotly.purge(gd);\n",
       "            observer.disconnect();\n",
       "        }}\n",
       "}});\n",
       "\n",
       "// Listen for the removal of the full notebook cells\n",
       "var notebookContainer = gd.closest('#notebook-container');\n",
       "if (notebookContainer) {{\n",
       "    x.observe(notebookContainer, {childList: true});\n",
       "}}\n",
       "\n",
       "// Listen for the clearing of the current output cell\n",
       "var outputEl = gd.closest('.output');\n",
       "if (outputEl) {{\n",
       "    x.observe(outputEl, {childList: true});\n",
       "}}\n",
       "\n",
       "                        })\n",
       "                };\n",
       "                });\n",
       "            </script>\n",
       "        </div>"
      ]
     },
     "metadata": {},
     "output_type": "display_data"
    }
   ],
   "source": [
    "# Fill this in with the actual study dates\n",
    "df = pd.DataFrame()\n",
    "study_dates = [datetime.datetime(2015, 1, 1), datetime.datetime(2016, 1, 1), datetime.datetime(2017, 1, 1), datetime.datetime(2018, 1, 1), datetime.datetime(2019, 1, 1)]\n",
    "for date in study_dates:\n",
    "    df = df.append(calculate_profit_by_period('AZN', date))\n",
    "\n",
    "    \n",
    "    \n",
    "fig = px.line(df, x = 'Period', y = 'Percent Profit (%)', color='Study Date', hover_data = ['Entry Date', 'Exit Date'],  title=\"AZN Profit After Studies Over 30 Day Periods\")\n",
    "fig.update_xaxes(type='category')\n",
    "fig.show()"
   ]
  },
  {
   "cell_type": "code",
   "execution_count": null,
   "metadata": {},
   "outputs": [],
   "source": []
  }
 ],
 "metadata": {
  "kernelspec": {
   "display_name": "Python 3",
   "language": "python",
   "name": "python3"
  },
  "language_info": {
   "codemirror_mode": {
    "name": "ipython",
    "version": 3
   },
   "file_extension": ".py",
   "mimetype": "text/x-python",
   "name": "python",
   "nbconvert_exporter": "python",
   "pygments_lexer": "ipython3",
   "version": "3.7.4"
  }
 },
 "nbformat": 4,
 "nbformat_minor": 2
}
